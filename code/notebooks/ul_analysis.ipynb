{
 "cells": [
  {
   "attachments": {},
   "cell_type": "markdown",
   "metadata": {},
   "source": [
    "Import public packages and functions"
   ]
  },
  {
   "cell_type": "code",
   "execution_count": 2,
   "metadata": {},
   "outputs": [],
   "source": [
    "import os\n",
    "import importlib\n",
    "import pandas as pd\n",
    "import numpy as np\n",
    "import matplotlib.pyplot as plt\n",
    "import csv\n",
    "from itertools import compress\n",
    "\n",
    "\n",
    "import openpyxl\n",
    "from datetime import datetime\n",
    "from scipy.spatial import distance\n",
    "from scipy.ndimage import uniform_filter1d\n",
    "import math\n",
    "from scipy.signal import find_peaks, peak_prominences\n",
    "import statistics as stat\n",
    "import json\n"
   ]
  },
  {
   "cell_type": "code",
   "execution_count": 4,
   "metadata": {},
   "outputs": [],
   "source": [
    "def get_repo_path_in_notebook():\n",
    "    \"\"\"\n",
    "    Finds path of repo from Notebook.\n",
    "    Start running this once to correctly find\n",
    "    other modules/functions\n",
    "    \"\"\"\n",
    "    path = os.getcwd()\n",
    "    repo_name = 'ultraleap_analysis'\n",
    "\n",
    "    while path[-len(repo_name):] != 'ultraleap_analysis':\n",
    "\n",
    "        path = os.path.dirname(path)\n",
    "\n",
    "    return path\n"
   ]
  },
  {
   "cell_type": "code",
   "execution_count": 5,
   "metadata": {},
   "outputs": [],
   "source": [
    "repo_path = get_repo_path_in_notebook()\n",
    "code_path = os.path.join(repo_path, 'code')\n",
    "os.chdir(code_path)\n"
   ]
  },
  {
   "attachments": {},
   "cell_type": "markdown",
   "metadata": {},
   "source": [
    "Import own functions"
   ]
  },
  {
   "cell_type": "code",
   "execution_count": 6,
   "metadata": {},
   "outputs": [],
   "source": [
    "import import_data.import_and_convert_data as import_dat\n",
    "import import_data.find_paths as find_paths\n",
    "import import_data.preprocessing_meta_info as meta_info\n",
    "import sig_processing.segment_tasks as tasks\n",
    "import movement_calc.calc_3d_distances as calc_3d\n",
    "import movement_calc.helpfunctions as hp\n",
    "import sig_processing.extract_features as feat_ext\n"
   ]
  },
  {
   "attachments": {},
   "cell_type": "markdown",
   "metadata": {},
   "source": [
    "### Saving blocks for preprocessing"
   ]
  },
  {
   "attachments": {},
   "cell_type": "markdown",
   "metadata": {},
   "source": [
    "Reloading own functions"
   ]
  },
  {
   "cell_type": "code",
   "execution_count": 7,
   "metadata": {},
   "outputs": [
    {
     "data": {
      "text/plain": [
       "<module 'sig_processing.extract_features' from 'c:\\\\Users\\\\madal\\\\Thesis\\\\ultraleap_analysis\\\\code\\\\sig_processing\\\\extract_features.py'>"
      ]
     },
     "execution_count": 7,
     "metadata": {},
     "output_type": "execute_result"
    }
   ],
   "source": [
    "importlib.reload(import_dat)\n",
    "importlib.reload(tasks)\n",
    "importlib.reload(find_paths)\n",
    "importlib.reload(feat_ext)"
   ]
  },
  {
   "attachments": {},
   "cell_type": "markdown",
   "metadata": {},
   "source": [
    "Define variables of interest"
   ]
  },
  {
   "cell_type": "code",
   "execution_count": 8,
   "metadata": {},
   "outputs": [],
   "source": [
    "ls_cam = ['dt', 'vr']\n",
    "task = 'oc'\n",
    "ls_cond = ['m1s0', 'm1s1']\n",
    "ls_side = ['left', 'right']\n",
    "sub = 'ul004'\n",
    "folder = 'patientdata'\n"
   ]
  },
  {
   "attachments": {},
   "cell_type": "markdown",
   "metadata": {},
   "source": [
    "Save blocks for feature extraction"
   ]
  },
  {
   "cell_type": "code",
   "execution_count": 10,
   "metadata": {},
   "outputs": [
    {
     "ename": "TypeError",
     "evalue": "get_data() missing 1 required positional argument: 'folder'",
     "output_type": "error",
     "traceback": [
      "\u001b[1;31m---------------------------------------------------------------------------\u001b[0m",
      "\u001b[1;31mTypeError\u001b[0m                                 Traceback (most recent call last)",
      "Cell \u001b[1;32mIn [10], line 5\u001b[0m\n\u001b[0;32m      2\u001b[0m \u001b[39mfor\u001b[39;00m cam \u001b[39min\u001b[39;00m ls_cam:\n\u001b[0;32m      3\u001b[0m     \u001b[39mfor\u001b[39;00m cond \u001b[39min\u001b[39;00m ls_cond:\n\u001b[0;32m      4\u001b[0m         \u001b[39m# get defined data\u001b[39;00m\n\u001b[1;32m----> 5\u001b[0m         data \u001b[39m=\u001b[39m import_dat\u001b[39m.\u001b[39;49mget_data(\n\u001b[0;32m      6\u001b[0m             sub\u001b[39m=\u001b[39;49msub, cam_pos\u001b[39m=\u001b[39;49mcam, task\u001b[39m=\u001b[39;49mtask, condition\u001b[39m=\u001b[39;49mcond, side\u001b[39m=\u001b[39;49mside,\n\u001b[0;32m      7\u001b[0m         )\n\u001b[0;32m      9\u001b[0m         \u001b[39m# get block dataframes\u001b[39;00m\n\u001b[0;32m     10\u001b[0m         blocks \u001b[39m=\u001b[39m tasks\u001b[39m.\u001b[39mblock_extraction(\n\u001b[0;32m     11\u001b[0m             data, sub\u001b[39m=\u001b[39msub, task\u001b[39m=\u001b[39mtask, side\u001b[39m=\u001b[39mside,\n\u001b[0;32m     12\u001b[0m             cond\u001b[39m=\u001b[39mcond, cam\u001b[39m=\u001b[39mcam, to_save\u001b[39m=\u001b[39m\u001b[39mTrue\u001b[39;00m\n\u001b[0;32m     13\u001b[0m         )\n",
      "\u001b[1;31mTypeError\u001b[0m: get_data() missing 1 required positional argument: 'folder'"
     ]
    }
   ],
   "source": [
    "for side in ls_side:\n",
    "    for cam in ls_cam:\n",
    "        for cond in ls_cond:\n",
    "            # get defined data\n",
    "            data = import_dat.get_data(\n",
    "                sub=sub, cam_pos=cam, task=task, condition=cond, side=side,\n",
    "            )\n",
    "\n",
    "            # get block dataframes\n",
    "            blocks = tasks.block_extraction(\n",
    "                data, sub=sub, task=task, side=side,\n",
    "                cond=cond, cam=cam, to_save=True\n",
    "            )\n",
    "            block_path = os.path.join(\n",
    "                repo_path, 'data', 'raw_blocks', f'ul{sub}', task, cond, 'blocks')\n",
    "\n",
    "            # saving blocks as .csv files\n",
    "            for block in blocks.keys():\n",
    "                if blocks[block].empty:\n",
    "                    print(f'{block}_ul{sub}_{cond}_{cam}_{task}_{side} is empty')\n",
    "                    continue\n",
    "                if not os.path.exists(block_path) and not blocks[block].empty:\n",
    "                    os.makedirs(block_path)\n",
    "                blocks[block].to_csv(os.path.join(\n",
    "                    block_path, f'{block}_ul{sub}_{cond}_{cam}_{task}_{side}.csv'))\n",
    "\n",
    "                if task == 'oc':\n",
    "                    dist = hp.calc_distances(\n",
    "                        blocks[block], ['index_tip', 'middle_tip', 'ring_tip', 'pinky_tip'], 'palm')\n",
    "                    dist_time = pd.DataFrame(dist, columns=['dist'])\n",
    "                    dist_time['time'] = blocks[block].program_time.to_list()\n",
    "                    dist_time_path = os.path.join(\n",
    "                        repo_path, 'data', 'raw_blocks', f'ul{sub}', task, cond, 'dist_time')\n",
    "                    if not os.path.exists(dist_time_path):\n",
    "                        os.makedirs(dist_time_path)\n",
    "                    dist_time.to_csv(os.path.join(\n",
    "                        dist_time_path, f'dist_time_{block}_ul{sub}_{cond}_{cam}_{task}_{side}.csv'))\n",
    "\n",
    "                elif task == 'ft':\n",
    "                    dist = hp.calc_distances(blocks[block], 'index_tip', 'thumb_tip')\n",
    "                    dist_time = pd.DataFrame(dist, columns=['dist'])\n",
    "                    dist_time['time'] = blocks[block].program_time.to_list()\n",
    "                    dist_time_path = os.path.join(\n",
    "                        repo_path, 'data', 'raw_blocks', f'ul{sub}', task, cond, 'dist_time')\n",
    "                    if not os.path.exists(dist_time_path):\n",
    "                        os.makedirs(dist_time_path)\n",
    "                    dist_time.to_csv(os.path.join(\n",
    "                        dist_time_path, f'dist_time_{block}_ul{sub}_{cond}_{cam}_{task}_{side}.csv'))\n",
    "\n",
    "                elif task == 'ps':\n",
    "                    dist = hp.PS_ang(blocks[block], 'thumb_tip', 'middle_tip', 'palm')\n",
    "                    dist_time = pd.DataFrame(dist, columns=['dist'])\n",
    "                    dist_time['time'] = blocks[block].program_time.to_list()\n",
    "                    dist_time_path = os.path.join(\n",
    "                        repo_path, 'data', 'raw_blocks', f'ul{sub}', task, cond, 'dist_time')\n",
    "                    if not os.path.exists(dist_time_path):\n",
    "                        os.makedirs(dist_time_path)\n",
    "                    dist_time.to_csv(os.path.join(\n",
    "                        dist_time_path, f'dist_time_{block}_ul{sub}_{cond}_{cam}_{task}_{side}.csv'))\n",
    "\n",
    "                else:\n",
    "                    # function for postural tremor\n",
    "                    print('postural tremor was not analysed yet')"
   ]
  },
  {
   "attachments": {},
   "cell_type": "markdown",
   "metadata": {},
   "source": [
    "Load blocks, calculate distances and create dist-time .csv files"
   ]
  },
  {
   "cell_type": "code",
   "execution_count": 12,
   "metadata": {},
   "outputs": [],
   "source": [
    "for cond in ls_cond:\n",
    "    files = os.listdir(os.path.join(repo_path, 'data',\n",
    "                       'raw_blocks', sub, task, cond, 'blocks'))\n",
    "\n",
    "    for file in files:\n",
    "        # Load blocks from patients' blocks dir\n",
    "        block = pd.read_csv(os.path.join(\n",
    "            repo_path, 'data', 'raw_blocks', sub, task, cond, 'blocks', file), index_col=0)\n",
    "\n",
    "        if task == 'oc':\n",
    "            dist = hp.calc_distances(\n",
    "                block, ['index_tip', 'middle_tip', 'ring_tip', 'pinky_tip'], 'palm')\n",
    "        elif task == 'ft':\n",
    "            dist = hp.calc_distances(block, 'index_tip', 'thumb_tip')\n",
    "        elif task == 'ps':\n",
    "            dist = hp.PS_ang(block, 'thumb_tip', 'middle_tip', 'palm')\n",
    "        else:\n",
    "            # function for postural tremor\n",
    "            print('postural tremor was not analysed yet')\n",
    "\n",
    "        dist_time = pd.DataFrame(dist, columns=['dist'])\n",
    "        dist_time['time'] = block.program_time.to_list()\n",
    "\n",
    "        dist_time_path = os.path.join(\n",
    "            repo_path, 'data', 'raw_blocks', sub, task, cond, 'dist_time')\n",
    "        if not os.path.exists(dist_time_path):\n",
    "            os.makedirs(dist_time_path)\n",
    "        dist_time.to_csv(os.path.join(\n",
    "            dist_time_path, f'dist_time_{file[:2]}_{sub}_{cond}_{cam}_{task}_{side}.csv'))\n",
    "\n"
   ]
  }
 ],
 "metadata": {
  "kernelspec": {
   "display_name": "ultraleap",
   "language": "python",
   "name": "python3"
  },
  "language_info": {
   "codemirror_mode": {
    "name": "ipython",
    "version": 3
   },
   "file_extension": ".py",
   "mimetype": "text/x-python",
   "name": "python",
   "nbconvert_exporter": "python",
   "pygments_lexer": "ipython3",
   "version": "3.9.13"
  },
  "orig_nbformat": 4,
  "vscode": {
   "interpreter": {
    "hash": "e71fae91b647d9ddf54366d4ca501e2feb7361c49fd4ae0aad0645ae641ecdc1"
   }
  }
 },
 "nbformat": 4,
 "nbformat_minor": 2
}
