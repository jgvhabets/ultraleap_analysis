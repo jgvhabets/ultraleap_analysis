{
 "cells": [
  {
   "cell_type": "markdown",
   "metadata": {},
   "source": [
    "# UltraLeap import playground\n",
    "\n",
    "Notebook status 20.09.2022"
   ]
  },
  {
   "cell_type": "code",
   "execution_count": 1,
   "metadata": {},
   "outputs": [],
   "source": [
    "# Import public packages and functions\n",
    "import os\n",
    "import importlib\n",
    "import pandas as pd\n",
    "import numpy as np\n",
    "import matplotlib.pyplot as plt\n",
    "import csv\n",
    "from itertools import compress\n",
    "from scipy.spatial import distance\n",
    "#from scipy import signal\n",
    "from scipy.ndimage import uniform_filter1d\n",
    "import math\n",
    "from scipy.signal import find_peaks, peak_prominences\n",
    "# from sklearn.linear_model import LinearRegression\n",
    "# from sklearn.metrics import mean_squared_error, r2_score\n",
    "# import statsmodels.api as sm\n"
   ]
  },
  {
   "cell_type": "code",
   "execution_count": 2,
   "metadata": {},
   "outputs": [],
   "source": [
    "# Import own functions\n",
    "import import_data.import_unity_positions as import_unity\n",
    "import import_data.import_and_convert_data as import_dat\n",
    "# import sig_processing.select_data as select_data\n",
    "\n",
    "import movement_calc.calc_3d_distances as calc_3d\n",
    "import movement_calc.helpfunctions as hp"
   ]
  },
  {
   "cell_type": "markdown",
   "metadata": {},
   "source": [
    "### Function that iterates over subject files"
   ]
  },
  {
   "cell_type": "code",
   "execution_count": 3,
   "metadata": {},
   "outputs": [
    {
     "data": {
      "text/plain": [
       "('c:\\\\Users\\\\madal\\\\OneDrive - Charité - Universitätsmedizin Berlin\\\\Ultraleap-hand-tracking\\\\data\\\\Patientdata',\n",
       " 'c:\\\\Users\\\\madal\\\\OneDrive - Charité - Universitätsmedizin Berlin')"
      ]
     },
     "execution_count": 3,
     "metadata": {},
     "output_type": "execute_result"
    }
   ],
   "source": [
    "import_dat.find_onedrive_path()"
   ]
  },
  {
   "cell_type": "code",
   "execution_count": 4,
   "metadata": {},
   "outputs": [],
   "source": [
    "def find_available_subs():\n",
    "\n",
    "    subs = os.listdir(import_dat.find_onedrive_path()[0])\n",
    "    subs = [s for s in subs if s[:2].lower() == 'ul']\n",
    "\n",
    "    return subs"
   ]
  },
  {
   "cell_type": "code",
   "execution_count": 5,
   "metadata": {},
   "outputs": [],
   "source": [
    "def show_sub_files(\n",
    "    sub: str,\n",
    "    # cam_pos: list,\n",
    "    cam: str,\n",
    "    rec_moment = None,  # consider to select on moment (12mfu etc)\n",
    "    state = None,  # consider to select med-stim state\n",
    "    task = str,\n",
    "    side = str\n",
    "    ):\n",
    "\n",
    "    \"\"\"\n",
    "    doc-string with explanation\n",
    "    \"\"\"\n",
    "    data_path, _ = import_dat.find_onedrive_path()\n",
    "\n",
    "    # sub_folder_dir = os.path.join(data_path, f'UL{sub}\\\\{cam}\\\\UL{sub}_{state}_{cam}_{task}\\\\UL{sub}_{state}_{cam}_{task}_{side}.csv')\n",
    "    sub_folder_dir = os.path.join(data_path, f'ul{sub}\\\\{cam}\\\\ul{sub}_{state}_{cam}_{task}\\\\ul{sub}_{state}_{cam}_{task}_{side}.csv')\n",
    "\n",
    "    print(sub_folder_dir)\n",
    "\n",
    "    # folder = os.listdir(sub_folder_dir)\n",
    "\n",
    "    return sub_folder_dir #folder, sub_folder_dir"
   ]
  },
  {
   "cell_type": "code",
   "execution_count": 6,
   "metadata": {},
   "outputs": [
    {
     "name": "stdout",
     "output_type": "stream",
     "text": [
      "c:\\Users\\madal\\OneDrive - Charité - Universitätsmedizin Berlin\\Ultraleap-hand-tracking\\data\\Patientdata\\ul001\\desktop\\ul001_m1_desktop_oc\\ul001_m1_desktop_oc_rh.csv\n",
      "ul001 c:\\Users\\madal\\OneDrive - Charité - Universitätsmedizin Berlin\\Ultraleap-hand-tracking\\data\\Patientdata\\ul001\\desktop\\ul001_m1_desktop_oc\\ul001_m1_desktop_oc_rh.csv\n",
      "c:\\Users\\madal\\OneDrive - Charité - Universitätsmedizin Berlin\\Ultraleap-hand-tracking\\data\\Patientdata\\ul002\\desktop\\ul002_m1_desktop_oc\\ul002_m1_desktop_oc_rh.csv\n",
      "ul002 c:\\Users\\madal\\OneDrive - Charité - Universitätsmedizin Berlin\\Ultraleap-hand-tracking\\data\\Patientdata\\ul002\\desktop\\ul002_m1_desktop_oc\\ul002_m1_desktop_oc_rh.csv\n",
      "c:\\Users\\madal\\OneDrive - Charité - Universitätsmedizin Berlin\\Ultraleap-hand-tracking\\data\\Patientdata\\ul003\\desktop\\ul003_m1_desktop_oc\\ul003_m1_desktop_oc_rh.csv\n",
      "ul003 c:\\Users\\madal\\OneDrive - Charité - Universitätsmedizin Berlin\\Ultraleap-hand-tracking\\data\\Patientdata\\ul003\\desktop\\ul003_m1_desktop_oc\\ul003_m1_desktop_oc_rh.csv\n",
      "c:\\Users\\madal\\OneDrive - Charité - Universitätsmedizin Berlin\\Ultraleap-hand-tracking\\data\\Patientdata\\ul004\\desktop\\ul004_m1_desktop_oc\\ul004_m1_desktop_oc_rh.csv\n",
      "ul004 c:\\Users\\madal\\OneDrive - Charité - Universitätsmedizin Berlin\\Ultraleap-hand-tracking\\data\\Patientdata\\ul004\\desktop\\ul004_m1_desktop_oc\\ul004_m1_desktop_oc_rh.csv\n",
      "c:\\Users\\madal\\OneDrive - Charité - Universitätsmedizin Berlin\\Ultraleap-hand-tracking\\data\\Patientdata\\ul005\\desktop\\ul005_m1_desktop_oc\\ul005_m1_desktop_oc_rh.csv\n",
      "ul005 c:\\Users\\madal\\OneDrive - Charité - Universitätsmedizin Berlin\\Ultraleap-hand-tracking\\data\\Patientdata\\ul005\\desktop\\ul005_m1_desktop_oc\\ul005_m1_desktop_oc_rh.csv\n",
      "c:\\Users\\madal\\OneDrive - Charité - Universitätsmedizin Berlin\\Ultraleap-hand-tracking\\data\\Patientdata\\ul006\\desktop\\ul006_m1_desktop_oc\\ul006_m1_desktop_oc_rh.csv\n",
      "ul006 c:\\Users\\madal\\OneDrive - Charité - Universitätsmedizin Berlin\\Ultraleap-hand-tracking\\data\\Patientdata\\ul006\\desktop\\ul006_m1_desktop_oc\\ul006_m1_desktop_oc_rh.csv\n"
     ]
    }
   ],
   "source": [
    "subs = find_available_subs()\n",
    "\n",
    "for sub in subs:\n",
    "    dir = show_sub_files(\n",
    "        sub[2:],\n",
    "        'desktop',\n",
    "        None,\n",
    "        'm1',\n",
    "        'oc',\n",
    "        'rh'\n",
    "    )\n",
    "    print(sub, dir)"
   ]
  },
  {
   "cell_type": "code",
   "execution_count": 7,
   "metadata": {},
   "outputs": [],
   "source": [
    "def find_file_path(\n",
    "    sub, cam_pos, task, condition, side\n",
    "):\n",
    "\n",
    "    # find folder with defined data\n",
    "    subpath = os.path.join(import_dat.find_onedrive_path()[0], f'ul{sub}')\n",
    "    cam_folder = os.path.join(subpath, cam_pos.lower())\n",
    "    # only take folder with defined task\n",
    "    files = os.listdir(cam_folder)\n",
    "    sel_files = [f for f in files if (\n",
    "        task.lower() in f and condition.lower() in f)]\n",
    "    \n",
    "    sel_folder = os.path.join(cam_folder, sel_files[0])\n",
    "    data_files = os.listdir(sel_folder)\n",
    "    # select on side\n",
    "    if side.lower() == 'left':\n",
    "        data_files = [f for f in data_files if 'lh' in f]\n",
    "    elif side.lower() == 'right':\n",
    "        data_files = [f for f in data_files if 'rh' in f]\n",
    "\n",
    "    pathfile = (os.path.join(sel_folder, data_files[0]))\n",
    "\n",
    "    return pathfile"
   ]
  },
  {
   "cell_type": "code",
   "execution_count": 8,
   "metadata": {},
   "outputs": [],
   "source": [
    "def extract_cont_features(\n",
    "    feats_incl: list,\n",
    "    sub: str, task, condition, side,\n",
    "    cam_pos, handpoints,\n",
    "):\n",
    "    \"\"\"\n",
    "    explanation of funcction\n",
    "\n",
    "    Arguments:\n",
    "        - feats_incl: ...\n",
    "        - sub: subject code as string\n",
    "    \n",
    "    Returns:\n",
    "        - df_out\n",
    "    \n",
    "    Raises:\n",
    "        - ValueErrors if campos or side are incorrect\n",
    "\n",
    "    \"\"\"\n",
    "    if side.lower() not in ['left', 'right']:\n",
    "        raise ValueError('incorrect side variable')\n",
    "    \n",
    "    if cam_pos.lower() not in ['vr', 'dt', 'st']:\n",
    "        raise ValueError('incorrect camera variable')\n",
    "    \n",
    "    # find path of defined data\n",
    "    pathfile = find_file_path(\n",
    "        sub=sub, cam_pos=cam_pos, task=task,\n",
    "        condition=condition, side=side,\n",
    "    )\n",
    "    assert os.path.exists(pathfile), (\n",
    "        f'selected path does not exist {pathfile}')\n",
    "\n",
    "    # load selected file\n",
    "    data = import_dat.import_string_data(pathfile)\n",
    "    # clean data\n",
    "    data = import_dat.remove_double_and_onlyNan_rows(data)\n",
    "    \n",
    "    # define two points to calculate distance\n",
    "\n",
    "\n",
    "\n",
    "    # define point to calculate speed\n",
    "\n",
    "    # extract speed from data\n",
    "\n",
    "    # df_out = []\n",
    "\n",
    "    return data #df_out"
   ]
  },
  {
   "cell_type": "code",
   "execution_count": 9,
   "metadata": {},
   "outputs": [
    {
     "data": {
      "text/html": [
       "<div>\n",
       "<style scoped>\n",
       "    .dataframe tbody tr th:only-of-type {\n",
       "        vertical-align: middle;\n",
       "    }\n",
       "\n",
       "    .dataframe tbody tr th {\n",
       "        vertical-align: top;\n",
       "    }\n",
       "\n",
       "    .dataframe thead th {\n",
       "        text-align: right;\n",
       "    }\n",
       "</style>\n",
       "<table border=\"1\" class=\"dataframe\">\n",
       "  <thead>\n",
       "    <tr style=\"text-align: right;\">\n",
       "      <th></th>\n",
       "      <th>global_time</th>\n",
       "      <th>program_time</th>\n",
       "      <th>delta_time</th>\n",
       "      <th>thumb_metacarp_x</th>\n",
       "      <th>thumb_metacarp_y</th>\n",
       "      <th>thumb_metacarp_z</th>\n",
       "      <th>thumb_interphal_prox_x</th>\n",
       "      <th>thumb_interphal_prox_y</th>\n",
       "      <th>thumb_interphal_prox_z</th>\n",
       "      <th>thumb_interphal_dist_x</th>\n",
       "      <th>...</th>\n",
       "      <th>pinch_position_y</th>\n",
       "      <th>pinch_position_z</th>\n",
       "      <th>pinch_pred_position_x</th>\n",
       "      <th>pinch_pred_position_y</th>\n",
       "      <th>pinch_pred_position_z</th>\n",
       "      <th>is_pinching</th>\n",
       "      <th>pinch_strength</th>\n",
       "      <th>pinch_distance</th>\n",
       "      <th>grab_strength</th>\n",
       "      <th>confidence</th>\n",
       "    </tr>\n",
       "  </thead>\n",
       "  <tbody>\n",
       "    <tr>\n",
       "      <th>0</th>\n",
       "      <td>11:30:37:5920</td>\n",
       "      <td>1.2651</td>\n",
       "      <td>0.0166</td>\n",
       "      <td>0.1004</td>\n",
       "      <td>0.0897</td>\n",
       "      <td>0.0068</td>\n",
       "      <td>0.0681</td>\n",
       "      <td>0.1040</td>\n",
       "      <td>0.0191</td>\n",
       "      <td>0.0426</td>\n",
       "      <td>...</td>\n",
       "      <td>0.1274</td>\n",
       "      <td>0.0476</td>\n",
       "      <td>0.0454</td>\n",
       "      <td>0.1307</td>\n",
       "      <td>0.0506</td>\n",
       "      <td>9498.0</td>\n",
       "      <td>0.0</td>\n",
       "      <td>1767.20</td>\n",
       "      <td>1.0</td>\n",
       "      <td>1.0</td>\n",
       "    </tr>\n",
       "    <tr>\n",
       "      <th>1</th>\n",
       "      <td>11:30:37:6245</td>\n",
       "      <td>1.2976</td>\n",
       "      <td>0.0166</td>\n",
       "      <td>0.1019</td>\n",
       "      <td>0.0887</td>\n",
       "      <td>0.0078</td>\n",
       "      <td>0.0697</td>\n",
       "      <td>0.1029</td>\n",
       "      <td>0.0198</td>\n",
       "      <td>0.0441</td>\n",
       "      <td>...</td>\n",
       "      <td>0.1261</td>\n",
       "      <td>0.0483</td>\n",
       "      <td>0.0468</td>\n",
       "      <td>0.1293</td>\n",
       "      <td>0.0516</td>\n",
       "      <td>8049.0</td>\n",
       "      <td>0.0</td>\n",
       "      <td>1803.20</td>\n",
       "      <td>1.0</td>\n",
       "      <td>1.0</td>\n",
       "    </tr>\n",
       "    <tr>\n",
       "      <th>2</th>\n",
       "      <td>11:30:37:6416</td>\n",
       "      <td>1.3147</td>\n",
       "      <td>0.0167</td>\n",
       "      <td>0.1023</td>\n",
       "      <td>0.0885</td>\n",
       "      <td>0.0083</td>\n",
       "      <td>0.0700</td>\n",
       "      <td>0.1026</td>\n",
       "      <td>0.0201</td>\n",
       "      <td>0.0445</td>\n",
       "      <td>...</td>\n",
       "      <td>0.1256</td>\n",
       "      <td>0.0487</td>\n",
       "      <td>0.0470</td>\n",
       "      <td>0.1286</td>\n",
       "      <td>0.0523</td>\n",
       "      <td>4856.0</td>\n",
       "      <td>0.0</td>\n",
       "      <td>1675.20</td>\n",
       "      <td>1.0</td>\n",
       "      <td>1.0</td>\n",
       "    </tr>\n",
       "    <tr>\n",
       "      <th>3</th>\n",
       "      <td>11:30:37:6579</td>\n",
       "      <td>1.3310</td>\n",
       "      <td>0.0166</td>\n",
       "      <td>0.1023</td>\n",
       "      <td>0.0885</td>\n",
       "      <td>0.0083</td>\n",
       "      <td>0.0701</td>\n",
       "      <td>0.1027</td>\n",
       "      <td>0.0199</td>\n",
       "      <td>0.0446</td>\n",
       "      <td>...</td>\n",
       "      <td>0.1257</td>\n",
       "      <td>0.0486</td>\n",
       "      <td>0.0471</td>\n",
       "      <td>0.1285</td>\n",
       "      <td>0.0524</td>\n",
       "      <td>2982.0</td>\n",
       "      <td>0.0</td>\n",
       "      <td>1630.20</td>\n",
       "      <td>1.0</td>\n",
       "      <td>1.0</td>\n",
       "    </tr>\n",
       "    <tr>\n",
       "      <th>4</th>\n",
       "      <td>11:30:37:6749</td>\n",
       "      <td>1.3480</td>\n",
       "      <td>0.0166</td>\n",
       "      <td>0.1022</td>\n",
       "      <td>0.0887</td>\n",
       "      <td>0.0078</td>\n",
       "      <td>0.0699</td>\n",
       "      <td>0.1031</td>\n",
       "      <td>0.0192</td>\n",
       "      <td>0.0444</td>\n",
       "      <td>...</td>\n",
       "      <td>0.1260</td>\n",
       "      <td>0.0478</td>\n",
       "      <td>0.0469</td>\n",
       "      <td>0.1285</td>\n",
       "      <td>0.0519</td>\n",
       "      <td>1345.0</td>\n",
       "      <td>0.0</td>\n",
       "      <td>1522.20</td>\n",
       "      <td>1.0</td>\n",
       "      <td>1.0</td>\n",
       "    </tr>\n",
       "    <tr>\n",
       "      <th>...</th>\n",
       "      <td>...</td>\n",
       "      <td>...</td>\n",
       "      <td>...</td>\n",
       "      <td>...</td>\n",
       "      <td>...</td>\n",
       "      <td>...</td>\n",
       "      <td>...</td>\n",
       "      <td>...</td>\n",
       "      <td>...</td>\n",
       "      <td>...</td>\n",
       "      <td>...</td>\n",
       "      <td>...</td>\n",
       "      <td>...</td>\n",
       "      <td>...</td>\n",
       "      <td>...</td>\n",
       "      <td>...</td>\n",
       "      <td>...</td>\n",
       "      <td>...</td>\n",
       "      <td>...</td>\n",
       "      <td>...</td>\n",
       "      <td>...</td>\n",
       "    </tr>\n",
       "    <tr>\n",
       "      <th>1152</th>\n",
       "      <td>11:31:03:3158</td>\n",
       "      <td>26.9888</td>\n",
       "      <td>0.0166</td>\n",
       "      <td>0.0705</td>\n",
       "      <td>-0.0933</td>\n",
       "      <td>-0.2568</td>\n",
       "      <td>0.0351</td>\n",
       "      <td>-0.0965</td>\n",
       "      <td>-0.2484</td>\n",
       "      <td>0.0051</td>\n",
       "      <td>...</td>\n",
       "      <td>-0.1208</td>\n",
       "      <td>-0.2530</td>\n",
       "      <td>-0.0039</td>\n",
       "      <td>-0.1165</td>\n",
       "      <td>-0.2494</td>\n",
       "      <td>7722.0</td>\n",
       "      <td>0.0</td>\n",
       "      <td>6575.30</td>\n",
       "      <td>1.0</td>\n",
       "      <td>1.0</td>\n",
       "    </tr>\n",
       "    <tr>\n",
       "      <th>1153</th>\n",
       "      <td>11:31:03:3314</td>\n",
       "      <td>27.0045</td>\n",
       "      <td>0.0166</td>\n",
       "      <td>0.0741</td>\n",
       "      <td>-0.0921</td>\n",
       "      <td>-0.2604</td>\n",
       "      <td>0.0389</td>\n",
       "      <td>-0.0970</td>\n",
       "      <td>-0.2524</td>\n",
       "      <td>0.0090</td>\n",
       "      <td>...</td>\n",
       "      <td>-0.1216</td>\n",
       "      <td>-0.2599</td>\n",
       "      <td>-0.0003</td>\n",
       "      <td>-0.1170</td>\n",
       "      <td>-0.2562</td>\n",
       "      <td>4726.0</td>\n",
       "      <td>0.0</td>\n",
       "      <td>6298.10</td>\n",
       "      <td>1.0</td>\n",
       "      <td>1.0</td>\n",
       "    </tr>\n",
       "    <tr>\n",
       "      <th>1154</th>\n",
       "      <td>11:31:03:3476</td>\n",
       "      <td>27.0206</td>\n",
       "      <td>0.0166</td>\n",
       "      <td>0.0783</td>\n",
       "      <td>-0.0908</td>\n",
       "      <td>-0.2632</td>\n",
       "      <td>0.0426</td>\n",
       "      <td>-0.0970</td>\n",
       "      <td>-0.2564</td>\n",
       "      <td>0.0125</td>\n",
       "      <td>...</td>\n",
       "      <td>-0.1224</td>\n",
       "      <td>-0.2668</td>\n",
       "      <td>0.0038</td>\n",
       "      <td>-0.1181</td>\n",
       "      <td>-0.2633</td>\n",
       "      <td>9438.0</td>\n",
       "      <td>0.0</td>\n",
       "      <td>5790.00</td>\n",
       "      <td>1.0</td>\n",
       "      <td>1.0</td>\n",
       "    </tr>\n",
       "    <tr>\n",
       "      <th>1155</th>\n",
       "      <td>11:31:03:3642</td>\n",
       "      <td>27.0372</td>\n",
       "      <td>0.0166</td>\n",
       "      <td>0.0883</td>\n",
       "      <td>-0.0849</td>\n",
       "      <td>-0.2617</td>\n",
       "      <td>0.0525</td>\n",
       "      <td>-0.0927</td>\n",
       "      <td>-0.2594</td>\n",
       "      <td>0.0222</td>\n",
       "      <td>...</td>\n",
       "      <td>-0.1189</td>\n",
       "      <td>-0.2771</td>\n",
       "      <td>0.0153</td>\n",
       "      <td>-0.1156</td>\n",
       "      <td>-0.2746</td>\n",
       "      <td>6290.0</td>\n",
       "      <td>0.0</td>\n",
       "      <td>5022.50</td>\n",
       "      <td>1.0</td>\n",
       "      <td>1.0</td>\n",
       "    </tr>\n",
       "    <tr>\n",
       "      <th>1156</th>\n",
       "      <td>11:31:03:3813</td>\n",
       "      <td>27.0544</td>\n",
       "      <td>0.0166</td>\n",
       "      <td>0.0919</td>\n",
       "      <td>-0.0797</td>\n",
       "      <td>-0.2568</td>\n",
       "      <td>0.0565</td>\n",
       "      <td>-0.0884</td>\n",
       "      <td>-0.2561</td>\n",
       "      <td>0.0262</td>\n",
       "      <td>...</td>\n",
       "      <td>-0.1153</td>\n",
       "      <td>-0.2768</td>\n",
       "      <td>0.0216</td>\n",
       "      <td>-0.1128</td>\n",
       "      <td>-0.2763</td>\n",
       "      <td>2744.0</td>\n",
       "      <td>0.0</td>\n",
       "      <td>4370.13</td>\n",
       "      <td>1.0</td>\n",
       "      <td>1.0</td>\n",
       "    </tr>\n",
       "  </tbody>\n",
       "</table>\n",
       "<p>1157 rows × 77 columns</p>\n",
       "</div>"
      ],
      "text/plain": [
       "        global_time  program_time  delta_time  thumb_metacarp_x  \\\n",
       "0     11:30:37:5920        1.2651      0.0166            0.1004   \n",
       "1     11:30:37:6245        1.2976      0.0166            0.1019   \n",
       "2     11:30:37:6416        1.3147      0.0167            0.1023   \n",
       "3     11:30:37:6579        1.3310      0.0166            0.1023   \n",
       "4     11:30:37:6749        1.3480      0.0166            0.1022   \n",
       "...             ...           ...         ...               ...   \n",
       "1152  11:31:03:3158       26.9888      0.0166            0.0705   \n",
       "1153  11:31:03:3314       27.0045      0.0166            0.0741   \n",
       "1154  11:31:03:3476       27.0206      0.0166            0.0783   \n",
       "1155  11:31:03:3642       27.0372      0.0166            0.0883   \n",
       "1156  11:31:03:3813       27.0544      0.0166            0.0919   \n",
       "\n",
       "      thumb_metacarp_y  thumb_metacarp_z  thumb_interphal_prox_x  \\\n",
       "0               0.0897            0.0068                  0.0681   \n",
       "1               0.0887            0.0078                  0.0697   \n",
       "2               0.0885            0.0083                  0.0700   \n",
       "3               0.0885            0.0083                  0.0701   \n",
       "4               0.0887            0.0078                  0.0699   \n",
       "...                ...               ...                     ...   \n",
       "1152           -0.0933           -0.2568                  0.0351   \n",
       "1153           -0.0921           -0.2604                  0.0389   \n",
       "1154           -0.0908           -0.2632                  0.0426   \n",
       "1155           -0.0849           -0.2617                  0.0525   \n",
       "1156           -0.0797           -0.2568                  0.0565   \n",
       "\n",
       "      thumb_interphal_prox_y  thumb_interphal_prox_z  thumb_interphal_dist_x  \\\n",
       "0                     0.1040                  0.0191                  0.0426   \n",
       "1                     0.1029                  0.0198                  0.0441   \n",
       "2                     0.1026                  0.0201                  0.0445   \n",
       "3                     0.1027                  0.0199                  0.0446   \n",
       "4                     0.1031                  0.0192                  0.0444   \n",
       "...                      ...                     ...                     ...   \n",
       "1152                 -0.0965                 -0.2484                  0.0051   \n",
       "1153                 -0.0970                 -0.2524                  0.0090   \n",
       "1154                 -0.0970                 -0.2564                  0.0125   \n",
       "1155                 -0.0927                 -0.2594                  0.0222   \n",
       "1156                 -0.0884                 -0.2561                  0.0262   \n",
       "\n",
       "      ...  pinch_position_y  pinch_position_z  pinch_pred_position_x  \\\n",
       "0     ...            0.1274            0.0476                 0.0454   \n",
       "1     ...            0.1261            0.0483                 0.0468   \n",
       "2     ...            0.1256            0.0487                 0.0470   \n",
       "3     ...            0.1257            0.0486                 0.0471   \n",
       "4     ...            0.1260            0.0478                 0.0469   \n",
       "...   ...               ...               ...                    ...   \n",
       "1152  ...           -0.1208           -0.2530                -0.0039   \n",
       "1153  ...           -0.1216           -0.2599                -0.0003   \n",
       "1154  ...           -0.1224           -0.2668                 0.0038   \n",
       "1155  ...           -0.1189           -0.2771                 0.0153   \n",
       "1156  ...           -0.1153           -0.2768                 0.0216   \n",
       "\n",
       "      pinch_pred_position_y  pinch_pred_position_z  is_pinching  \\\n",
       "0                    0.1307                 0.0506       9498.0   \n",
       "1                    0.1293                 0.0516       8049.0   \n",
       "2                    0.1286                 0.0523       4856.0   \n",
       "3                    0.1285                 0.0524       2982.0   \n",
       "4                    0.1285                 0.0519       1345.0   \n",
       "...                     ...                    ...          ...   \n",
       "1152                -0.1165                -0.2494       7722.0   \n",
       "1153                -0.1170                -0.2562       4726.0   \n",
       "1154                -0.1181                -0.2633       9438.0   \n",
       "1155                -0.1156                -0.2746       6290.0   \n",
       "1156                -0.1128                -0.2763       2744.0   \n",
       "\n",
       "      pinch_strength  pinch_distance  grab_strength  confidence  \n",
       "0                0.0         1767.20            1.0         1.0  \n",
       "1                0.0         1803.20            1.0         1.0  \n",
       "2                0.0         1675.20            1.0         1.0  \n",
       "3                0.0         1630.20            1.0         1.0  \n",
       "4                0.0         1522.20            1.0         1.0  \n",
       "...              ...             ...            ...         ...  \n",
       "1152             0.0         6575.30            1.0         1.0  \n",
       "1153             0.0         6298.10            1.0         1.0  \n",
       "1154             0.0         5790.00            1.0         1.0  \n",
       "1155             0.0         5022.50            1.0         1.0  \n",
       "1156             0.0         4370.13            1.0         1.0  \n",
       "\n",
       "[1157 rows x 77 columns]"
      ]
     },
     "execution_count": 9,
     "metadata": {},
     "output_type": "execute_result"
    }
   ],
   "source": [
    "out = extract_cont_features(\n",
    "    sub='001', feats_incl=['speed', 'distance'], task='oc',\n",
    "    condition='M1', side='right', cam_pos='vR', handpoints='index_tip')\n",
    "out"
   ]
  },
  {
   "cell_type": "markdown",
   "metadata": {},
   "source": [
    "### Division of data per task (if necessary)"
   ]
  },
  {
   "cell_type": "code",
   "execution_count": 10,
   "metadata": {},
   "outputs": [],
   "source": [
    "def task(\n",
    "    df,\n",
    "    time1,\n",
    "    time2\n",
    "    ):\n",
    "    \n",
    "    \"\"\" Divides the cleaned data between two time points (can \n",
    "    be used in cases where all task are in the same file).\n",
    "        \n",
    "        Input:\n",
    "            - cleaned df (DataFrame),\n",
    "            time1: global_time of the start of a task, \n",
    "            time2: global_time of the end of a task.\n",
    "        \n",
    "        Output:\n",
    "            - new dataframe for specific task/block.\n",
    "    \"\"\"\n",
    "\n",
    "    new_df = df[(df['global_time']>=time1) & (df['global_time']<=time2)]\n",
    "\n",
    "    return new_df"
   ]
  },
  {
   "cell_type": "markdown",
   "metadata": {},
   "source": [
    "### Define Data directories and Find files in directories"
   ]
  },
  {
   "cell_type": "markdown",
   "metadata": {},
   "source": [
    "### Desktop position"
   ]
  },
  {
   "cell_type": "code",
   "execution_count": 11,
   "metadata": {},
   "outputs": [],
   "source": [
    "fig_path_003 = os.path.join(\n",
    "        import_unity.find_project_dir(os.getcwd()),\n",
    "        'figures',\n",
    "        'ul003',\n",
    "        )\n",
    "if not os.path.exists(fig_path_003): \n",
    "    os.mkdir(fig_path_003)\n"
   ]
  },
  {
   "cell_type": "markdown",
   "metadata": {},
   "source": [
    "M1S0"
   ]
  },
  {
   "cell_type": "code",
   "execution_count": 12,
   "metadata": {},
   "outputs": [
    {
     "name": "stdout",
     "output_type": "stream",
     "text": [
      "c:\\Users\\madal\\OneDrive - Charité - Universitätsmedizin Berlin\\Ultraleap-hand-tracking\\data\\Patientdata\\ul003\\desktop\\ul003_m1s0_desktop_oc\\ul003_m1s0_desktop_oc_rh.csv\n"
     ]
    }
   ],
   "source": [
    "dir_003_M1S0_DT_oc_rh = show_sub_files(\n",
    "   '003',\n",
    "   'desktop',\n",
    "   None,\n",
    "   'm1s0',\n",
    "   'oc',\n",
    "   'rh'\n",
    "    )\n",
    "\n",
    "# dir_001_M1S0_DT_oc_rh = show_sub_files(\n",
    "#    '001',\n",
    "#    'vr',\n",
    "#    None,\n",
    "#    'm1',\n",
    "#    'oc',\n",
    "#    'lh'\n",
    "#     )\n"
   ]
  },
  {
   "cell_type": "code",
   "execution_count": 13,
   "metadata": {},
   "outputs": [
    {
     "data": {
      "text/plain": [
       "'c:\\\\Users\\\\madal\\\\OneDrive - Charité - Universitätsmedizin Berlin\\\\Ultraleap-hand-tracking\\\\data\\\\Patientdata\\\\ul003\\\\desktop\\\\ul003_m1s0_desktop_oc\\\\ul003_m1s0_desktop_oc_rh.csv'"
      ]
     },
     "execution_count": 13,
     "metadata": {},
     "output_type": "execute_result"
    }
   ],
   "source": [
    "dir_003_M1S0_DT_oc_rh"
   ]
  },
  {
   "cell_type": "code",
   "execution_count": 14,
   "metadata": {},
   "outputs": [],
   "source": [
    "df_raw_003_M1S0_DT_oc_rh = import_dat.import_string_data(dir_003_M1S0_DT_oc_rh)\n",
    "\n",
    "df_003_M1S0_DT_oc_rh = import_dat.remove_double_and_onlyNan_rows(df_raw_003_M1S0_DT_oc_rh)"
   ]
  },
  {
   "cell_type": "code",
   "execution_count": 15,
   "metadata": {},
   "outputs": [
    {
     "data": {
      "text/html": [
       "<div>\n",
       "<style scoped>\n",
       "    .dataframe tbody tr th:only-of-type {\n",
       "        vertical-align: middle;\n",
       "    }\n",
       "\n",
       "    .dataframe tbody tr th {\n",
       "        vertical-align: top;\n",
       "    }\n",
       "\n",
       "    .dataframe thead th {\n",
       "        text-align: right;\n",
       "    }\n",
       "</style>\n",
       "<table border=\"1\" class=\"dataframe\">\n",
       "  <thead>\n",
       "    <tr style=\"text-align: right;\">\n",
       "      <th></th>\n",
       "      <th>global_time</th>\n",
       "      <th>program_time</th>\n",
       "      <th>delta_time</th>\n",
       "      <th>thumb_metacarp_x</th>\n",
       "      <th>thumb_metacarp_y</th>\n",
       "      <th>thumb_metacarp_z</th>\n",
       "      <th>thumb_interphal_prox_x</th>\n",
       "      <th>thumb_interphal_prox_y</th>\n",
       "      <th>thumb_interphal_prox_z</th>\n",
       "      <th>thumb_interphal_dist_x</th>\n",
       "      <th>...</th>\n",
       "      <th>pinch_position_y</th>\n",
       "      <th>pinch_position_z</th>\n",
       "      <th>pinch_pred_position_x</th>\n",
       "      <th>pinch_pred_position_y</th>\n",
       "      <th>pinch_pred_position_z</th>\n",
       "      <th>is_pinching</th>\n",
       "      <th>pinch_strength</th>\n",
       "      <th>pinch_distance</th>\n",
       "      <th>grab_strength</th>\n",
       "      <th>confidence</th>\n",
       "    </tr>\n",
       "  </thead>\n",
       "  <tbody>\n",
       "    <tr>\n",
       "      <th>0</th>\n",
       "      <td>09:30:45:2993</td>\n",
       "      <td>10.4346</td>\n",
       "      <td>0.0163</td>\n",
       "      <td>0.0777</td>\n",
       "      <td>0.3108</td>\n",
       "      <td>-0.0732</td>\n",
       "      <td>0.0398</td>\n",
       "      <td>0.3198</td>\n",
       "      <td>-0.0463</td>\n",
       "      <td>0.0181</td>\n",
       "      <td>...</td>\n",
       "      <td>0.3272</td>\n",
       "      <td>0.0017</td>\n",
       "      <td>0.0516</td>\n",
       "      <td>0.3168</td>\n",
       "      <td>0.0132</td>\n",
       "      <td>7222.0</td>\n",
       "      <td>0.0</td>\n",
       "      <td>0.71</td>\n",
       "      <td>0.0</td>\n",
       "      <td>1.0</td>\n",
       "    </tr>\n",
       "    <tr>\n",
       "      <th>1</th>\n",
       "      <td>09:30:45:3007</td>\n",
       "      <td>10.4360</td>\n",
       "      <td>0.0018</td>\n",
       "      <td>0.0775</td>\n",
       "      <td>0.3103</td>\n",
       "      <td>-0.0723</td>\n",
       "      <td>0.0392</td>\n",
       "      <td>0.3161</td>\n",
       "      <td>-0.0455</td>\n",
       "      <td>0.0174</td>\n",
       "      <td>...</td>\n",
       "      <td>0.3283</td>\n",
       "      <td>0.0048</td>\n",
       "      <td>0.0503</td>\n",
       "      <td>0.3127</td>\n",
       "      <td>0.0180</td>\n",
       "      <td>5974.0</td>\n",
       "      <td>0.0</td>\n",
       "      <td>0.77</td>\n",
       "      <td>0.0</td>\n",
       "      <td>1.0</td>\n",
       "    </tr>\n",
       "    <tr>\n",
       "      <th>2</th>\n",
       "      <td>09:30:45:3024</td>\n",
       "      <td>10.4377</td>\n",
       "      <td>0.0009</td>\n",
       "      <td>0.0775</td>\n",
       "      <td>0.3103</td>\n",
       "      <td>-0.0723</td>\n",
       "      <td>0.0392</td>\n",
       "      <td>0.3161</td>\n",
       "      <td>-0.0455</td>\n",
       "      <td>0.0174</td>\n",
       "      <td>...</td>\n",
       "      <td>0.3283</td>\n",
       "      <td>0.0048</td>\n",
       "      <td>0.0503</td>\n",
       "      <td>0.3127</td>\n",
       "      <td>0.0180</td>\n",
       "      <td>5968.0</td>\n",
       "      <td>0.0</td>\n",
       "      <td>0.77</td>\n",
       "      <td>0.0</td>\n",
       "      <td>1.0</td>\n",
       "    </tr>\n",
       "    <tr>\n",
       "      <th>3</th>\n",
       "      <td>09:30:45:3041</td>\n",
       "      <td>10.4394</td>\n",
       "      <td>0.0013</td>\n",
       "      <td>0.0775</td>\n",
       "      <td>0.3103</td>\n",
       "      <td>-0.0723</td>\n",
       "      <td>0.0392</td>\n",
       "      <td>0.3161</td>\n",
       "      <td>-0.0455</td>\n",
       "      <td>0.0174</td>\n",
       "      <td>...</td>\n",
       "      <td>0.3283</td>\n",
       "      <td>0.0048</td>\n",
       "      <td>0.0503</td>\n",
       "      <td>0.3127</td>\n",
       "      <td>0.0180</td>\n",
       "      <td>5974.0</td>\n",
       "      <td>0.0</td>\n",
       "      <td>0.77</td>\n",
       "      <td>0.0</td>\n",
       "      <td>1.0</td>\n",
       "    </tr>\n",
       "    <tr>\n",
       "      <th>4</th>\n",
       "      <td>09:30:45:3068</td>\n",
       "      <td>10.4421</td>\n",
       "      <td>0.0009</td>\n",
       "      <td>0.0775</td>\n",
       "      <td>0.3103</td>\n",
       "      <td>-0.0723</td>\n",
       "      <td>0.0392</td>\n",
       "      <td>0.3161</td>\n",
       "      <td>-0.0455</td>\n",
       "      <td>0.0174</td>\n",
       "      <td>...</td>\n",
       "      <td>0.3283</td>\n",
       "      <td>0.0048</td>\n",
       "      <td>0.0503</td>\n",
       "      <td>0.3127</td>\n",
       "      <td>0.0180</td>\n",
       "      <td>5968.0</td>\n",
       "      <td>0.0</td>\n",
       "      <td>0.77</td>\n",
       "      <td>0.0</td>\n",
       "      <td>1.0</td>\n",
       "    </tr>\n",
       "  </tbody>\n",
       "</table>\n",
       "<p>5 rows × 77 columns</p>\n",
       "</div>"
      ],
      "text/plain": [
       "     global_time  program_time  delta_time  thumb_metacarp_x  \\\n",
       "0  09:30:45:2993       10.4346      0.0163            0.0777   \n",
       "1  09:30:45:3007       10.4360      0.0018            0.0775   \n",
       "2  09:30:45:3024       10.4377      0.0009            0.0775   \n",
       "3  09:30:45:3041       10.4394      0.0013            0.0775   \n",
       "4  09:30:45:3068       10.4421      0.0009            0.0775   \n",
       "\n",
       "   thumb_metacarp_y  thumb_metacarp_z  thumb_interphal_prox_x  \\\n",
       "0            0.3108           -0.0732                  0.0398   \n",
       "1            0.3103           -0.0723                  0.0392   \n",
       "2            0.3103           -0.0723                  0.0392   \n",
       "3            0.3103           -0.0723                  0.0392   \n",
       "4            0.3103           -0.0723                  0.0392   \n",
       "\n",
       "   thumb_interphal_prox_y  thumb_interphal_prox_z  thumb_interphal_dist_x  \\\n",
       "0                  0.3198                 -0.0463                  0.0181   \n",
       "1                  0.3161                 -0.0455                  0.0174   \n",
       "2                  0.3161                 -0.0455                  0.0174   \n",
       "3                  0.3161                 -0.0455                  0.0174   \n",
       "4                  0.3161                 -0.0455                  0.0174   \n",
       "\n",
       "   ...  pinch_position_y  pinch_position_z  pinch_pred_position_x  \\\n",
       "0  ...            0.3272            0.0017                 0.0516   \n",
       "1  ...            0.3283            0.0048                 0.0503   \n",
       "2  ...            0.3283            0.0048                 0.0503   \n",
       "3  ...            0.3283            0.0048                 0.0503   \n",
       "4  ...            0.3283            0.0048                 0.0503   \n",
       "\n",
       "   pinch_pred_position_y  pinch_pred_position_z  is_pinching  pinch_strength  \\\n",
       "0                 0.3168                 0.0132       7222.0             0.0   \n",
       "1                 0.3127                 0.0180       5974.0             0.0   \n",
       "2                 0.3127                 0.0180       5968.0             0.0   \n",
       "3                 0.3127                 0.0180       5974.0             0.0   \n",
       "4                 0.3127                 0.0180       5968.0             0.0   \n",
       "\n",
       "   pinch_distance  grab_strength  confidence  \n",
       "0            0.71            0.0         1.0  \n",
       "1            0.77            0.0         1.0  \n",
       "2            0.77            0.0         1.0  \n",
       "3            0.77            0.0         1.0  \n",
       "4            0.77            0.0         1.0  \n",
       "\n",
       "[5 rows x 77 columns]"
      ]
     },
     "execution_count": 15,
     "metadata": {},
     "output_type": "execute_result"
    }
   ],
   "source": [
    "df_003_M1S0_DT_oc_rh.head()"
   ]
  },
  {
   "cell_type": "markdown",
   "metadata": {},
   "source": [
    "M1S1"
   ]
  },
  {
   "cell_type": "code",
   "execution_count": 16,
   "metadata": {},
   "outputs": [
    {
     "name": "stdout",
     "output_type": "stream",
     "text": [
      "c:\\Users\\madal\\OneDrive - Charité - Universitätsmedizin Berlin\\Ultraleap-hand-tracking\\data\\Patientdata\\ul003\\desktop\\ul003_m1s1_desktop_oc\\ul003_m1s1_desktop_oc_rh.csv\n"
     ]
    }
   ],
   "source": [
    "dir_003_M1S1_DT_oc_rh = show_sub_files(\n",
    "   '003',\n",
    "   'desktop',\n",
    "   None,\n",
    "   'm1s1',\n",
    "   'oc',\n",
    "   'rh'\n",
    "    )\n"
   ]
  },
  {
   "cell_type": "code",
   "execution_count": 17,
   "metadata": {},
   "outputs": [],
   "source": [
    "df_raw_003_M1S1_DT_oc_rh = import_dat.import_string_data(dir_003_M1S1_DT_oc_rh)\n",
    "\n",
    "df_003_M1S1_DT_oc_rh = import_dat.remove_double_and_onlyNan_rows(df_raw_003_M1S1_DT_oc_rh)\n",
    "\n"
   ]
  },
  {
   "cell_type": "code",
   "execution_count": 18,
   "metadata": {},
   "outputs": [
    {
     "data": {
      "text/html": [
       "<div>\n",
       "<style scoped>\n",
       "    .dataframe tbody tr th:only-of-type {\n",
       "        vertical-align: middle;\n",
       "    }\n",
       "\n",
       "    .dataframe tbody tr th {\n",
       "        vertical-align: top;\n",
       "    }\n",
       "\n",
       "    .dataframe thead th {\n",
       "        text-align: right;\n",
       "    }\n",
       "</style>\n",
       "<table border=\"1\" class=\"dataframe\">\n",
       "  <thead>\n",
       "    <tr style=\"text-align: right;\">\n",
       "      <th></th>\n",
       "      <th>global_time</th>\n",
       "      <th>program_time</th>\n",
       "      <th>delta_time</th>\n",
       "      <th>thumb_metacarp_x</th>\n",
       "      <th>thumb_metacarp_y</th>\n",
       "      <th>thumb_metacarp_z</th>\n",
       "      <th>thumb_interphal_prox_x</th>\n",
       "      <th>thumb_interphal_prox_y</th>\n",
       "      <th>thumb_interphal_prox_z</th>\n",
       "      <th>thumb_interphal_dist_x</th>\n",
       "      <th>...</th>\n",
       "      <th>pinch_position_y</th>\n",
       "      <th>pinch_position_z</th>\n",
       "      <th>pinch_pred_position_x</th>\n",
       "      <th>pinch_pred_position_y</th>\n",
       "      <th>pinch_pred_position_z</th>\n",
       "      <th>is_pinching</th>\n",
       "      <th>pinch_strength</th>\n",
       "      <th>pinch_distance</th>\n",
       "      <th>grab_strength</th>\n",
       "      <th>confidence</th>\n",
       "    </tr>\n",
       "  </thead>\n",
       "  <tbody>\n",
       "    <tr>\n",
       "      <th>0</th>\n",
       "      <td>09:58:39:4678</td>\n",
       "      <td>8.2550</td>\n",
       "      <td>0.0158</td>\n",
       "      <td>0.1460</td>\n",
       "      <td>0.1518</td>\n",
       "      <td>-0.1639</td>\n",
       "      <td>0.1097</td>\n",
       "      <td>0.1339</td>\n",
       "      <td>-0.1386</td>\n",
       "      <td>0.0927</td>\n",
       "      <td>...</td>\n",
       "      <td>0.1289</td>\n",
       "      <td>-0.0842</td>\n",
       "      <td>0.1210</td>\n",
       "      <td>0.1231</td>\n",
       "      <td>-0.0774</td>\n",
       "      <td>9024.0</td>\n",
       "      <td>0.0</td>\n",
       "      <td>0.89</td>\n",
       "      <td>0.0</td>\n",
       "      <td>1.0</td>\n",
       "    </tr>\n",
       "    <tr>\n",
       "      <th>1</th>\n",
       "      <td>09:58:39:4746</td>\n",
       "      <td>8.2618</td>\n",
       "      <td>0.0010</td>\n",
       "      <td>0.1466</td>\n",
       "      <td>0.1596</td>\n",
       "      <td>-0.1639</td>\n",
       "      <td>0.1104</td>\n",
       "      <td>0.1430</td>\n",
       "      <td>-0.1380</td>\n",
       "      <td>0.0925</td>\n",
       "      <td>...</td>\n",
       "      <td>0.1396</td>\n",
       "      <td>-0.0835</td>\n",
       "      <td>0.1223</td>\n",
       "      <td>0.1317</td>\n",
       "      <td>-0.0761</td>\n",
       "      <td>8928.0</td>\n",
       "      <td>0.0</td>\n",
       "      <td>0.89</td>\n",
       "      <td>0.0</td>\n",
       "      <td>1.0</td>\n",
       "    </tr>\n",
       "    <tr>\n",
       "      <th>2</th>\n",
       "      <td>09:58:39:4857</td>\n",
       "      <td>8.2729</td>\n",
       "      <td>0.0013</td>\n",
       "      <td>0.1467</td>\n",
       "      <td>0.1668</td>\n",
       "      <td>-0.1639</td>\n",
       "      <td>0.1112</td>\n",
       "      <td>0.1516</td>\n",
       "      <td>-0.1362</td>\n",
       "      <td>0.0926</td>\n",
       "      <td>...</td>\n",
       "      <td>0.1496</td>\n",
       "      <td>-0.0816</td>\n",
       "      <td>0.1241</td>\n",
       "      <td>0.1401</td>\n",
       "      <td>-0.0746</td>\n",
       "      <td>4615.0</td>\n",
       "      <td>0.0</td>\n",
       "      <td>0.88</td>\n",
       "      <td>0.0</td>\n",
       "      <td>1.0</td>\n",
       "    </tr>\n",
       "    <tr>\n",
       "      <th>3</th>\n",
       "      <td>09:58:39:4859</td>\n",
       "      <td>8.2731</td>\n",
       "      <td>0.0009</td>\n",
       "      <td>0.1467</td>\n",
       "      <td>0.1668</td>\n",
       "      <td>-0.1639</td>\n",
       "      <td>0.1112</td>\n",
       "      <td>0.1516</td>\n",
       "      <td>-0.1362</td>\n",
       "      <td>0.0926</td>\n",
       "      <td>...</td>\n",
       "      <td>0.1496</td>\n",
       "      <td>-0.0816</td>\n",
       "      <td>0.1241</td>\n",
       "      <td>0.1401</td>\n",
       "      <td>-0.0746</td>\n",
       "      <td>4614.0</td>\n",
       "      <td>0.0</td>\n",
       "      <td>0.88</td>\n",
       "      <td>0.0</td>\n",
       "      <td>1.0</td>\n",
       "    </tr>\n",
       "    <tr>\n",
       "      <th>4</th>\n",
       "      <td>09:58:39:4870</td>\n",
       "      <td>8.2742</td>\n",
       "      <td>0.0015</td>\n",
       "      <td>0.1467</td>\n",
       "      <td>0.1668</td>\n",
       "      <td>-0.1639</td>\n",
       "      <td>0.1112</td>\n",
       "      <td>0.1516</td>\n",
       "      <td>-0.1362</td>\n",
       "      <td>0.0926</td>\n",
       "      <td>...</td>\n",
       "      <td>0.1496</td>\n",
       "      <td>-0.0816</td>\n",
       "      <td>0.1241</td>\n",
       "      <td>0.1401</td>\n",
       "      <td>-0.0746</td>\n",
       "      <td>4615.0</td>\n",
       "      <td>0.0</td>\n",
       "      <td>0.88</td>\n",
       "      <td>0.0</td>\n",
       "      <td>1.0</td>\n",
       "    </tr>\n",
       "  </tbody>\n",
       "</table>\n",
       "<p>5 rows × 77 columns</p>\n",
       "</div>"
      ],
      "text/plain": [
       "     global_time  program_time  delta_time  thumb_metacarp_x  \\\n",
       "0  09:58:39:4678        8.2550      0.0158            0.1460   \n",
       "1  09:58:39:4746        8.2618      0.0010            0.1466   \n",
       "2  09:58:39:4857        8.2729      0.0013            0.1467   \n",
       "3  09:58:39:4859        8.2731      0.0009            0.1467   \n",
       "4  09:58:39:4870        8.2742      0.0015            0.1467   \n",
       "\n",
       "   thumb_metacarp_y  thumb_metacarp_z  thumb_interphal_prox_x  \\\n",
       "0            0.1518           -0.1639                  0.1097   \n",
       "1            0.1596           -0.1639                  0.1104   \n",
       "2            0.1668           -0.1639                  0.1112   \n",
       "3            0.1668           -0.1639                  0.1112   \n",
       "4            0.1668           -0.1639                  0.1112   \n",
       "\n",
       "   thumb_interphal_prox_y  thumb_interphal_prox_z  thumb_interphal_dist_x  \\\n",
       "0                  0.1339                 -0.1386                  0.0927   \n",
       "1                  0.1430                 -0.1380                  0.0925   \n",
       "2                  0.1516                 -0.1362                  0.0926   \n",
       "3                  0.1516                 -0.1362                  0.0926   \n",
       "4                  0.1516                 -0.1362                  0.0926   \n",
       "\n",
       "   ...  pinch_position_y  pinch_position_z  pinch_pred_position_x  \\\n",
       "0  ...            0.1289           -0.0842                 0.1210   \n",
       "1  ...            0.1396           -0.0835                 0.1223   \n",
       "2  ...            0.1496           -0.0816                 0.1241   \n",
       "3  ...            0.1496           -0.0816                 0.1241   \n",
       "4  ...            0.1496           -0.0816                 0.1241   \n",
       "\n",
       "   pinch_pred_position_y  pinch_pred_position_z  is_pinching  pinch_strength  \\\n",
       "0                 0.1231                -0.0774       9024.0             0.0   \n",
       "1                 0.1317                -0.0761       8928.0             0.0   \n",
       "2                 0.1401                -0.0746       4615.0             0.0   \n",
       "3                 0.1401                -0.0746       4614.0             0.0   \n",
       "4                 0.1401                -0.0746       4615.0             0.0   \n",
       "\n",
       "   pinch_distance  grab_strength  confidence  \n",
       "0            0.89            0.0         1.0  \n",
       "1            0.89            0.0         1.0  \n",
       "2            0.88            0.0         1.0  \n",
       "3            0.88            0.0         1.0  \n",
       "4            0.88            0.0         1.0  \n",
       "\n",
       "[5 rows x 77 columns]"
      ]
     },
     "execution_count": 18,
     "metadata": {},
     "output_type": "execute_result"
    }
   ],
   "source": [
    "df_003_M1S1_DT_oc_rh.head()"
   ]
  },
  {
   "cell_type": "markdown",
   "metadata": {},
   "source": [
    "OC each finger distance - M1S0"
   ]
  },
  {
   "cell_type": "code",
   "execution_count": 21,
   "metadata": {},
   "outputs": [],
   "source": [
    "k_M1S0 = hp.OC_amp(\n",
    "    df_003_M1S0_DT_oc_rh,\n",
    "    ['index_tip',\n",
    "    'middle_tip',\n",
    "    'ring_tip',\n",
    "    'pinky_tip']\n",
    "    )"
   ]
  },
  {
   "cell_type": "code",
   "execution_count": 22,
   "metadata": {},
   "outputs": [
    {
     "data": {
      "text/html": [
       "<div>\n",
       "<style scoped>\n",
       "    .dataframe tbody tr th:only-of-type {\n",
       "        vertical-align: middle;\n",
       "    }\n",
       "\n",
       "    .dataframe tbody tr th {\n",
       "        vertical-align: top;\n",
       "    }\n",
       "\n",
       "    .dataframe thead th {\n",
       "        text-align: right;\n",
       "    }\n",
       "</style>\n",
       "<table border=\"1\" class=\"dataframe\">\n",
       "  <thead>\n",
       "    <tr style=\"text-align: right;\">\n",
       "      <th></th>\n",
       "      <th>program_time</th>\n",
       "      <th>index_tip_dist</th>\n",
       "      <th>middle_tip_dist</th>\n",
       "      <th>ring_tip_dist</th>\n",
       "      <th>pinky_tip_dist</th>\n",
       "    </tr>\n",
       "  </thead>\n",
       "  <tbody>\n",
       "    <tr>\n",
       "      <th>0</th>\n",
       "      <td>10.4346</td>\n",
       "      <td>0.077375</td>\n",
       "      <td>0.091552</td>\n",
       "      <td>0.083107</td>\n",
       "      <td>0.080513</td>\n",
       "    </tr>\n",
       "    <tr>\n",
       "      <th>1</th>\n",
       "      <td>10.4360</td>\n",
       "      <td>0.089651</td>\n",
       "      <td>0.098007</td>\n",
       "      <td>0.088557</td>\n",
       "      <td>0.085499</td>\n",
       "    </tr>\n",
       "    <tr>\n",
       "      <th>2</th>\n",
       "      <td>10.4377</td>\n",
       "      <td>0.089651</td>\n",
       "      <td>0.098007</td>\n",
       "      <td>0.088557</td>\n",
       "      <td>0.085499</td>\n",
       "    </tr>\n",
       "    <tr>\n",
       "      <th>3</th>\n",
       "      <td>10.4394</td>\n",
       "      <td>0.089651</td>\n",
       "      <td>0.098007</td>\n",
       "      <td>0.088557</td>\n",
       "      <td>0.085499</td>\n",
       "    </tr>\n",
       "    <tr>\n",
       "      <th>4</th>\n",
       "      <td>10.4421</td>\n",
       "      <td>0.089651</td>\n",
       "      <td>0.098007</td>\n",
       "      <td>0.088557</td>\n",
       "      <td>0.085499</td>\n",
       "    </tr>\n",
       "    <tr>\n",
       "      <th>...</th>\n",
       "      <td>...</td>\n",
       "      <td>...</td>\n",
       "      <td>...</td>\n",
       "      <td>...</td>\n",
       "      <td>...</td>\n",
       "    </tr>\n",
       "    <tr>\n",
       "      <th>6848</th>\n",
       "      <td>40.8604</td>\n",
       "      <td>0.088912</td>\n",
       "      <td>0.093993</td>\n",
       "      <td>0.080063</td>\n",
       "      <td>0.064082</td>\n",
       "    </tr>\n",
       "    <tr>\n",
       "      <th>6849</th>\n",
       "      <td>40.8615</td>\n",
       "      <td>0.087505</td>\n",
       "      <td>0.093319</td>\n",
       "      <td>0.079294</td>\n",
       "      <td>0.063645</td>\n",
       "    </tr>\n",
       "    <tr>\n",
       "      <th>6850</th>\n",
       "      <td>40.8723</td>\n",
       "      <td>0.087616</td>\n",
       "      <td>0.094161</td>\n",
       "      <td>0.081233</td>\n",
       "      <td>0.064998</td>\n",
       "    </tr>\n",
       "    <tr>\n",
       "      <th>6851</th>\n",
       "      <td>40.8809</td>\n",
       "      <td>0.087616</td>\n",
       "      <td>0.094161</td>\n",
       "      <td>0.081233</td>\n",
       "      <td>0.064998</td>\n",
       "    </tr>\n",
       "    <tr>\n",
       "      <th>6852</th>\n",
       "      <td>40.8819</td>\n",
       "      <td>0.087616</td>\n",
       "      <td>0.094161</td>\n",
       "      <td>0.081233</td>\n",
       "      <td>0.064998</td>\n",
       "    </tr>\n",
       "  </tbody>\n",
       "</table>\n",
       "<p>6853 rows × 5 columns</p>\n",
       "</div>"
      ],
      "text/plain": [
       "      program_time  index_tip_dist  middle_tip_dist  ring_tip_dist  \\\n",
       "0          10.4346        0.077375         0.091552       0.083107   \n",
       "1          10.4360        0.089651         0.098007       0.088557   \n",
       "2          10.4377        0.089651         0.098007       0.088557   \n",
       "3          10.4394        0.089651         0.098007       0.088557   \n",
       "4          10.4421        0.089651         0.098007       0.088557   \n",
       "...            ...             ...              ...            ...   \n",
       "6848       40.8604        0.088912         0.093993       0.080063   \n",
       "6849       40.8615        0.087505         0.093319       0.079294   \n",
       "6850       40.8723        0.087616         0.094161       0.081233   \n",
       "6851       40.8809        0.087616         0.094161       0.081233   \n",
       "6852       40.8819        0.087616         0.094161       0.081233   \n",
       "\n",
       "      pinky_tip_dist  \n",
       "0           0.080513  \n",
       "1           0.085499  \n",
       "2           0.085499  \n",
       "3           0.085499  \n",
       "4           0.085499  \n",
       "...              ...  \n",
       "6848        0.064082  \n",
       "6849        0.063645  \n",
       "6850        0.064998  \n",
       "6851        0.064998  \n",
       "6852        0.064998  \n",
       "\n",
       "[6853 rows x 5 columns]"
      ]
     },
     "execution_count": 22,
     "metadata": {},
     "output_type": "execute_result"
    }
   ],
   "source": [
    "k_M1S0"
   ]
  },
  {
   "cell_type": "markdown",
   "metadata": {},
   "source": [
    "OC each finger distance - M1S1"
   ]
  },
  {
   "cell_type": "code",
   "execution_count": 23,
   "metadata": {},
   "outputs": [],
   "source": [
    "k_M1S1 = hp.OC_amp(\n",
    "    df_003_M1S1_DT_oc_rh,\n",
    "    ['index_tip',\n",
    "    'middle_tip',\n",
    "    'ring_tip',\n",
    "    'pinky_tip']\n",
    "    )"
   ]
  },
  {
   "cell_type": "code",
   "execution_count": 24,
   "metadata": {},
   "outputs": [
    {
     "data": {
      "text/html": [
       "<div>\n",
       "<style scoped>\n",
       "    .dataframe tbody tr th:only-of-type {\n",
       "        vertical-align: middle;\n",
       "    }\n",
       "\n",
       "    .dataframe tbody tr th {\n",
       "        vertical-align: top;\n",
       "    }\n",
       "\n",
       "    .dataframe thead th {\n",
       "        text-align: right;\n",
       "    }\n",
       "</style>\n",
       "<table border=\"1\" class=\"dataframe\">\n",
       "  <thead>\n",
       "    <tr style=\"text-align: right;\">\n",
       "      <th></th>\n",
       "      <th>program_time</th>\n",
       "      <th>index_tip_dist</th>\n",
       "      <th>middle_tip_dist</th>\n",
       "      <th>ring_tip_dist</th>\n",
       "      <th>pinky_tip_dist</th>\n",
       "    </tr>\n",
       "  </thead>\n",
       "  <tbody>\n",
       "    <tr>\n",
       "      <th>0</th>\n",
       "      <td>8.2550</td>\n",
       "      <td>0.095938</td>\n",
       "      <td>0.103789</td>\n",
       "      <td>0.093825</td>\n",
       "      <td>0.086945</td>\n",
       "    </tr>\n",
       "    <tr>\n",
       "      <th>1</th>\n",
       "      <td>8.2618</td>\n",
       "      <td>0.097485</td>\n",
       "      <td>0.105018</td>\n",
       "      <td>0.094599</td>\n",
       "      <td>0.089187</td>\n",
       "    </tr>\n",
       "    <tr>\n",
       "      <th>2</th>\n",
       "      <td>8.2729</td>\n",
       "      <td>0.097827</td>\n",
       "      <td>0.105035</td>\n",
       "      <td>0.095072</td>\n",
       "      <td>0.090484</td>\n",
       "    </tr>\n",
       "    <tr>\n",
       "      <th>3</th>\n",
       "      <td>8.2731</td>\n",
       "      <td>0.097827</td>\n",
       "      <td>0.105035</td>\n",
       "      <td>0.095072</td>\n",
       "      <td>0.090484</td>\n",
       "    </tr>\n",
       "    <tr>\n",
       "      <th>4</th>\n",
       "      <td>8.2742</td>\n",
       "      <td>0.097827</td>\n",
       "      <td>0.105035</td>\n",
       "      <td>0.095072</td>\n",
       "      <td>0.090484</td>\n",
       "    </tr>\n",
       "    <tr>\n",
       "      <th>...</th>\n",
       "      <td>...</td>\n",
       "      <td>...</td>\n",
       "      <td>...</td>\n",
       "      <td>...</td>\n",
       "      <td>...</td>\n",
       "    </tr>\n",
       "    <tr>\n",
       "      <th>11043</th>\n",
       "      <td>44.5460</td>\n",
       "      <td>0.079915</td>\n",
       "      <td>0.085602</td>\n",
       "      <td>0.072300</td>\n",
       "      <td>0.056754</td>\n",
       "    </tr>\n",
       "    <tr>\n",
       "      <th>11044</th>\n",
       "      <td>44.5473</td>\n",
       "      <td>0.079915</td>\n",
       "      <td>0.085602</td>\n",
       "      <td>0.072300</td>\n",
       "      <td>0.056754</td>\n",
       "    </tr>\n",
       "    <tr>\n",
       "      <th>11045</th>\n",
       "      <td>44.5473</td>\n",
       "      <td>0.079915</td>\n",
       "      <td>0.085602</td>\n",
       "      <td>0.072300</td>\n",
       "      <td>0.056754</td>\n",
       "    </tr>\n",
       "    <tr>\n",
       "      <th>11046</th>\n",
       "      <td>44.5505</td>\n",
       "      <td>0.079915</td>\n",
       "      <td>0.085602</td>\n",
       "      <td>0.072300</td>\n",
       "      <td>0.056754</td>\n",
       "    </tr>\n",
       "    <tr>\n",
       "      <th>11047</th>\n",
       "      <td>44.5537</td>\n",
       "      <td>0.079915</td>\n",
       "      <td>0.085602</td>\n",
       "      <td>0.072300</td>\n",
       "      <td>0.056754</td>\n",
       "    </tr>\n",
       "  </tbody>\n",
       "</table>\n",
       "<p>11048 rows × 5 columns</p>\n",
       "</div>"
      ],
      "text/plain": [
       "       program_time  index_tip_dist  middle_tip_dist  ring_tip_dist  \\\n",
       "0            8.2550        0.095938         0.103789       0.093825   \n",
       "1            8.2618        0.097485         0.105018       0.094599   \n",
       "2            8.2729        0.097827         0.105035       0.095072   \n",
       "3            8.2731        0.097827         0.105035       0.095072   \n",
       "4            8.2742        0.097827         0.105035       0.095072   \n",
       "...             ...             ...              ...            ...   \n",
       "11043       44.5460        0.079915         0.085602       0.072300   \n",
       "11044       44.5473        0.079915         0.085602       0.072300   \n",
       "11045       44.5473        0.079915         0.085602       0.072300   \n",
       "11046       44.5505        0.079915         0.085602       0.072300   \n",
       "11047       44.5537        0.079915         0.085602       0.072300   \n",
       "\n",
       "       pinky_tip_dist  \n",
       "0            0.086945  \n",
       "1            0.089187  \n",
       "2            0.090484  \n",
       "3            0.090484  \n",
       "4            0.090484  \n",
       "...               ...  \n",
       "11043        0.056754  \n",
       "11044        0.056754  \n",
       "11045        0.056754  \n",
       "11046        0.056754  \n",
       "11047        0.056754  \n",
       "\n",
       "[11048 rows x 5 columns]"
      ]
     },
     "execution_count": 24,
     "metadata": {},
     "output_type": "execute_result"
    }
   ],
   "source": [
    "k_M1S1"
   ]
  },
  {
   "cell_type": "code",
   "execution_count": 19,
   "metadata": {},
   "outputs": [
    {
     "ename": "NameError",
     "evalue": "name 'k_M1S0' is not defined",
     "output_type": "error",
     "traceback": [
      "\u001b[1;31m---------------------------------------------------------------------------\u001b[0m",
      "\u001b[1;31mNameError\u001b[0m                                 Traceback (most recent call last)",
      "Cell \u001b[1;32mIn [19], line 4\u001b[0m\n\u001b[0;32m      1\u001b[0m fig, axes \u001b[39m=\u001b[39m plt\u001b[39m.\u001b[39msubplots(\u001b[39m1\u001b[39m, \u001b[39m2\u001b[39m, figsize \u001b[39m=\u001b[39m (\u001b[39m14\u001b[39m,\u001b[39m5\u001b[39m))\n\u001b[0;32m      3\u001b[0m axes[\u001b[39m0\u001b[39m]\u001b[39m.\u001b[39mplot(\n\u001b[1;32m----> 4\u001b[0m     k_M1S0[\u001b[39m'\u001b[39m\u001b[39mprogram_time\u001b[39m\u001b[39m'\u001b[39m],\n\u001b[0;32m      5\u001b[0m     k_M1S0[\u001b[39m'\u001b[39m\u001b[39mmiddle_tip_dist\u001b[39m\u001b[39m'\u001b[39m],\n\u001b[0;32m      6\u001b[0m     color \u001b[39m=\u001b[39m \u001b[39m'\u001b[39m\u001b[39mgrey\u001b[39m\u001b[39m'\u001b[39m\n\u001b[0;32m      7\u001b[0m )\n\u001b[0;32m      8\u001b[0m axes[\u001b[39m0\u001b[39m]\u001b[39m.\u001b[39mset_title(\u001b[39m'\u001b[39m\u001b[39mRight hand - M1S0\u001b[39m\u001b[39m'\u001b[39m)\n\u001b[0;32m      9\u001b[0m axes[\u001b[39m0\u001b[39m]\u001b[39m.\u001b[39mset_xlabel(\u001b[39m'\u001b[39m\u001b[39mprogram_time (s)\u001b[39m\u001b[39m'\u001b[39m)\n",
      "\u001b[1;31mNameError\u001b[0m: name 'k_M1S0' is not defined"
     ]
    },
    {
     "data": {
      "image/png": "[encoded data removed]",
      "text/plain": [
       "<Figure size 1400x500 with 2 Axes>"
      ]
     },
     "metadata": {},
     "output_type": "display_data"
    }
   ],
   "source": [
    "fig, axes = plt.subplots(1, 2, figsize = (14,5))\n",
    "\n",
    "axes[0].plot(\n",
    "    k_M1S0['program_time'],\n",
    "    k_M1S0['middle_tip_dist'],\n",
    "    color = 'grey'\n",
    ")\n",
    "axes[0].set_title('Right hand - M1S0')\n",
    "axes[0].set_xlabel('program_time (s)')\n",
    "axes[0].set_ylabel('distance (m)')\n",
    "\n",
    "axes[1].plot(\n",
    "    k_M1S1['program_time'],\n",
    "    k_M1S1['middle_tip_dist'],\n",
    "    color = 'grey'\n",
    ")\n",
    "axes[1].set_title('Right hand - M1S1')\n",
    "axes[1].set_xlabel('program_time (s)')\n",
    "axes[1].set_ylabel('distance (m)')\n",
    "\n",
    "fig.suptitle('ul003 - OC (each fing distance)')\n"
   ]
  },
  {
   "cell_type": "markdown",
   "metadata": {},
   "source": [
    "OC mean distance - M1S0"
   ]
  },
  {
   "cell_type": "code",
   "execution_count": 20,
   "metadata": {},
   "outputs": [],
   "source": [
    "dist_df_003_M1S0_DT_oc_rh = hp.OC_amp_mean(\n",
    "    df_003_M1S0_DT_oc_rh,\n",
    "    'index_tip',\n",
    "    'middle_tip',\n",
    "    'ring_tip',\n",
    "    'pinky_tip'\n",
    "    )"
   ]
  },
  {
   "cell_type": "code",
   "execution_count": 21,
   "metadata": {},
   "outputs": [
    {
     "data": {
      "text/html": [
       "<div>\n",
       "<style scoped>\n",
       "    .dataframe tbody tr th:only-of-type {\n",
       "        vertical-align: middle;\n",
       "    }\n",
       "\n",
       "    .dataframe tbody tr th {\n",
       "        vertical-align: top;\n",
       "    }\n",
       "\n",
       "    .dataframe thead th {\n",
       "        text-align: right;\n",
       "    }\n",
       "</style>\n",
       "<table border=\"1\" class=\"dataframe\">\n",
       "  <thead>\n",
       "    <tr style=\"text-align: right;\">\n",
       "      <th></th>\n",
       "      <th>program_time</th>\n",
       "      <th>distance</th>\n",
       "    </tr>\n",
       "  </thead>\n",
       "  <tbody>\n",
       "    <tr>\n",
       "      <th>0</th>\n",
       "      <td>10.4346</td>\n",
       "      <td>0.083137</td>\n",
       "    </tr>\n",
       "    <tr>\n",
       "      <th>1</th>\n",
       "      <td>10.4360</td>\n",
       "      <td>0.090429</td>\n",
       "    </tr>\n",
       "    <tr>\n",
       "      <th>2</th>\n",
       "      <td>10.4377</td>\n",
       "      <td>0.090429</td>\n",
       "    </tr>\n",
       "    <tr>\n",
       "      <th>3</th>\n",
       "      <td>10.4394</td>\n",
       "      <td>0.090429</td>\n",
       "    </tr>\n",
       "    <tr>\n",
       "      <th>4</th>\n",
       "      <td>10.4421</td>\n",
       "      <td>0.090429</td>\n",
       "    </tr>\n",
       "    <tr>\n",
       "      <th>...</th>\n",
       "      <td>...</td>\n",
       "      <td>...</td>\n",
       "    </tr>\n",
       "    <tr>\n",
       "      <th>6848</th>\n",
       "      <td>40.8604</td>\n",
       "      <td>0.081762</td>\n",
       "    </tr>\n",
       "    <tr>\n",
       "      <th>6849</th>\n",
       "      <td>40.8615</td>\n",
       "      <td>0.080941</td>\n",
       "    </tr>\n",
       "    <tr>\n",
       "      <th>6850</th>\n",
       "      <td>40.8723</td>\n",
       "      <td>0.082002</td>\n",
       "    </tr>\n",
       "    <tr>\n",
       "      <th>6851</th>\n",
       "      <td>40.8809</td>\n",
       "      <td>0.082002</td>\n",
       "    </tr>\n",
       "    <tr>\n",
       "      <th>6852</th>\n",
       "      <td>40.8819</td>\n",
       "      <td>0.082002</td>\n",
       "    </tr>\n",
       "  </tbody>\n",
       "</table>\n",
       "<p>6853 rows × 2 columns</p>\n",
       "</div>"
      ],
      "text/plain": [
       "      program_time  distance\n",
       "0          10.4346  0.083137\n",
       "1          10.4360  0.090429\n",
       "2          10.4377  0.090429\n",
       "3          10.4394  0.090429\n",
       "4          10.4421  0.090429\n",
       "...            ...       ...\n",
       "6848       40.8604  0.081762\n",
       "6849       40.8615  0.080941\n",
       "6850       40.8723  0.082002\n",
       "6851       40.8809  0.082002\n",
       "6852       40.8819  0.082002\n",
       "\n",
       "[6853 rows x 2 columns]"
      ]
     },
     "execution_count": 21,
     "metadata": {},
     "output_type": "execute_result"
    }
   ],
   "source": [
    "dist_df_003_M1S0_DT_oc_rh"
   ]
  },
  {
   "cell_type": "markdown",
   "metadata": {},
   "source": [
    "OC mean distance - M1S1"
   ]
  },
  {
   "cell_type": "code",
   "execution_count": 22,
   "metadata": {},
   "outputs": [],
   "source": [
    "dist_df_003_M1S1_DT_oc_rh = hp.OC_amp_mean(\n",
    "    df_003_M1S1_DT_oc_rh,\n",
    "    'index_tip',\n",
    "    'middle_tip',\n",
    "    'ring_tip',\n",
    "    'pinky_tip'\n",
    "    )"
   ]
  },
  {
   "cell_type": "code",
   "execution_count": 23,
   "metadata": {},
   "outputs": [
    {
     "data": {
      "text/html": [
       "<div>\n",
       "<style scoped>\n",
       "    .dataframe tbody tr th:only-of-type {\n",
       "        vertical-align: middle;\n",
       "    }\n",
       "\n",
       "    .dataframe tbody tr th {\n",
       "        vertical-align: top;\n",
       "    }\n",
       "\n",
       "    .dataframe thead th {\n",
       "        text-align: right;\n",
       "    }\n",
       "</style>\n",
       "<table border=\"1\" class=\"dataframe\">\n",
       "  <thead>\n",
       "    <tr style=\"text-align: right;\">\n",
       "      <th></th>\n",
       "      <th>program_time</th>\n",
       "      <th>distance</th>\n",
       "    </tr>\n",
       "  </thead>\n",
       "  <tbody>\n",
       "    <tr>\n",
       "      <th>0</th>\n",
       "      <td>8.2550</td>\n",
       "      <td>0.095124</td>\n",
       "    </tr>\n",
       "    <tr>\n",
       "      <th>1</th>\n",
       "      <td>8.2618</td>\n",
       "      <td>0.096572</td>\n",
       "    </tr>\n",
       "    <tr>\n",
       "      <th>2</th>\n",
       "      <td>8.2729</td>\n",
       "      <td>0.097104</td>\n",
       "    </tr>\n",
       "    <tr>\n",
       "      <th>3</th>\n",
       "      <td>8.2731</td>\n",
       "      <td>0.097104</td>\n",
       "    </tr>\n",
       "    <tr>\n",
       "      <th>4</th>\n",
       "      <td>8.2742</td>\n",
       "      <td>0.097104</td>\n",
       "    </tr>\n",
       "    <tr>\n",
       "      <th>...</th>\n",
       "      <td>...</td>\n",
       "      <td>...</td>\n",
       "    </tr>\n",
       "    <tr>\n",
       "      <th>11043</th>\n",
       "      <td>44.5460</td>\n",
       "      <td>0.073643</td>\n",
       "    </tr>\n",
       "    <tr>\n",
       "      <th>11044</th>\n",
       "      <td>44.5473</td>\n",
       "      <td>0.073643</td>\n",
       "    </tr>\n",
       "    <tr>\n",
       "      <th>11045</th>\n",
       "      <td>44.5473</td>\n",
       "      <td>0.073643</td>\n",
       "    </tr>\n",
       "    <tr>\n",
       "      <th>11046</th>\n",
       "      <td>44.5505</td>\n",
       "      <td>0.073643</td>\n",
       "    </tr>\n",
       "    <tr>\n",
       "      <th>11047</th>\n",
       "      <td>44.5537</td>\n",
       "      <td>0.073643</td>\n",
       "    </tr>\n",
       "  </tbody>\n",
       "</table>\n",
       "<p>11048 rows × 2 columns</p>\n",
       "</div>"
      ],
      "text/plain": [
       "       program_time  distance\n",
       "0            8.2550  0.095124\n",
       "1            8.2618  0.096572\n",
       "2            8.2729  0.097104\n",
       "3            8.2731  0.097104\n",
       "4            8.2742  0.097104\n",
       "...             ...       ...\n",
       "11043       44.5460  0.073643\n",
       "11044       44.5473  0.073643\n",
       "11045       44.5473  0.073643\n",
       "11046       44.5505  0.073643\n",
       "11047       44.5537  0.073643\n",
       "\n",
       "[11048 rows x 2 columns]"
      ]
     },
     "execution_count": 23,
     "metadata": {},
     "output_type": "execute_result"
    }
   ],
   "source": [
    "dist_df_003_M1S1_DT_oc_rh"
   ]
  },
  {
   "cell_type": "code",
   "execution_count": 24,
   "metadata": {},
   "outputs": [
    {
     "data": {
      "image/png": "[encoded data removed]",
      "text/plain": [
       "<Figure size 1800x500 with 2 Axes>"
      ]
     },
     "metadata": {},
     "output_type": "display_data"
    }
   ],
   "source": [
    "fig, axes = plt.subplots(1, 2, figsize = (18,5))\n",
    "\n",
    "axes[0].plot(\n",
    "    dist_df_003_M1S0_DT_oc_rh['program_time'],\n",
    "    dist_df_003_M1S0_DT_oc_rh['distance'],\n",
    "    color = 'grey'\n",
    ")\n",
    "axes[0].set_title('Right hand - M1S0')\n",
    "axes[0].set_xlabel('program_time (s)')\n",
    "axes[0].set_ylabel('distance (m)')\n",
    "\n",
    "axes[1].plot(\n",
    "    dist_df_003_M1S1_DT_oc_rh['program_time'],\n",
    "    dist_df_003_M1S1_DT_oc_rh['distance'],\n",
    "    color = 'grey'\n",
    ")\n",
    "axes[1].set_title('Right hand - M1S1')\n",
    "axes[1].set_xlabel('program_time (s)')\n",
    "axes[1].set_ylabel('distance (m)')\n",
    "fig.suptitle('ul003 - OC', fontweight =\"bold\")\n",
    "\n",
    "axes[0].axvspan(17.2, 25.4, color=\"red\", alpha = 0.3)\n",
    "axes[1].axvspan(24.4, 31.5, color=\"red\", alpha = 0.3)\n",
    "\n",
    "fig.savefig(\n",
    "            os.path.join(fig_path_003, 'ul003_M1SX_dt_comparison_oc'),\n",
    "            dpi = 150, facecolor = 'w',\n",
    "        )\n",
    "# plt.show()"
   ]
  },
  {
   "cell_type": "markdown",
   "metadata": {},
   "source": [
    "Finding Minima and Maxima"
   ]
  },
  {
   "cell_type": "code",
   "execution_count": 31,
   "metadata": {},
   "outputs": [],
   "source": [
    "# def find_min_max(\n",
    "#     df_time_dist,\n",
    "#     hgt_min,\n",
    "#     hgt_max,\n",
    "#     col_name: str,\n",
    "#     prom,\n",
    "#     # prom_min,\n",
    "#     # prom_max,\n",
    "#     ):\n"
   ]
  },
  {
   "cell_type": "code",
   "execution_count": 32,
   "metadata": {},
   "outputs": [
    {
     "name": "stdout",
     "output_type": "stream",
     "text": [
      "-0.09702349020373532\n"
     ]
    }
   ],
   "source": [
    "importlib.reload(hp)\n",
    "dict_min_max_dist_df_003_M1S0_DT_oc_rh = hp.find_min_max(\n",
    "    dist_df_003_M1S0_DT_oc_rh,\n",
    "    - 0.11, # hgt_min\n",
    "    0.008, # hgt_max\n",
    "    'distance',\n",
    "    0.04,\n",
    "    )    \n",
    "\n",
    "min_idx_dist_df_003_M1S0_DT_oc_rh = dict_min_max_dist_df_003_M1S0_DT_oc_rh['min_idx'] \n",
    "max_idx_dist_df_003_M1S0_DT_oc_rh = dict_min_max_dist_df_003_M1S0_DT_oc_rh['max_idx']"
   ]
  },
  {
   "cell_type": "markdown",
   "metadata": {},
   "source": [
    "Calculating Minima and Maxima - M1S1"
   ]
  },
  {
   "cell_type": "code",
   "execution_count": 33,
   "metadata": {},
   "outputs": [
    {
     "name": "stdout",
     "output_type": "stream",
     "text": [
      "-0.10058162997704735\n"
     ]
    }
   ],
   "source": [
    "importlib.reload(hp)\n",
    "dict_min_max_dist_df_003_M1S1_DT_oc_rh = hp.find_min_max(\n",
    "    dist_df_003_M1S1_DT_oc_rh,\n",
    "    - 0.11, # hgt_min\n",
    "    0.08, # hgt_max\n",
    "    'distance',\n",
    "    0.04,\n",
    "    )    \n",
    "\n",
    "min_idx_dist_df_003_M1S1_DT_oc_rh = dict_min_max_dist_df_003_M1S1_DT_oc_rh['min_idx'] \n",
    "max_idx_dist_df_003_M1S1_DT_oc_rh = dict_min_max_dist_df_003_M1S1_DT_oc_rh['max_idx']"
   ]
  },
  {
   "cell_type": "markdown",
   "metadata": {},
   "source": [
    "Plotting Minima and Maxima"
   ]
  },
  {
   "cell_type": "code",
   "execution_count": 34,
   "metadata": {},
   "outputs": [
    {
     "data": {
      "image/png": "[encoded data removed]",
      "text/plain": [
       "<Figure size 1600x1100 with 2 Axes>"
      ]
     },
     "metadata": {},
     "output_type": "display_data"
    },
    {
     "data": {
      "text/plain": [
       "<Figure size 1600x500 with 0 Axes>"
      ]
     },
     "metadata": {},
     "output_type": "display_data"
    }
   ],
   "source": [
    "fig, axes = plt.subplots(2, 1, figsize = (16, 11), constrained_layout=True) \n",
    "plt.figure(figsize = (16,5))\n",
    "axes[0].plot(dist_df_003_M1S0_DT_oc_rh['program_time'], dist_df_003_M1S0_DT_oc_rh['distance'], color = 'grey')\n",
    "axes[0].plot(\n",
    "    dist_df_003_M1S0_DT_oc_rh.iloc[max_idx_dist_df_003_M1S0_DT_oc_rh]['program_time'],\n",
    "    dist_df_003_M1S0_DT_oc_rh.iloc[max_idx_dist_df_003_M1S0_DT_oc_rh]['distance'],\n",
    "    \"o\", \n",
    "    label= \"open (max)\", \n",
    "    color='blue'\n",
    "    )\n",
    "axes[0].plot(\n",
    "    dist_df_003_M1S0_DT_oc_rh.iloc[min_idx_dist_df_003_M1S0_DT_oc_rh]['program_time'],\n",
    "    dist_df_003_M1S0_DT_oc_rh.iloc[min_idx_dist_df_003_M1S0_DT_oc_rh]['distance'], \n",
    "    \"o\", \n",
    "    label = \"close (min)\", \n",
    "    color ='red'\n",
    "    )\n",
    "axes[0].set_xlabel('program_time (s)', fontsize = 9)\n",
    "axes[0].set_ylabel('distance (m)', fontsize = 9)\n",
    "axes[0].legend()\n",
    "axes[0].set_title('dist_df_003_M1S0_DT_oc_rh', fontsize = 10)\n",
    "\n",
    "\n",
    "axes[1].plot(dist_df_003_M1S1_DT_oc_rh['program_time'], dist_df_003_M1S1_DT_oc_rh['distance'], color = 'grey')\n",
    "axes[1].plot(\n",
    "    dist_df_003_M1S1_DT_oc_rh.iloc[max_idx_dist_df_003_M1S1_DT_oc_rh]['program_time'],\n",
    "    dist_df_003_M1S1_DT_oc_rh.iloc[max_idx_dist_df_003_M1S1_DT_oc_rh]['distance'],\n",
    "    \"o\", \n",
    "    label= \"open (max)\", \n",
    "    color='blue'\n",
    "    )\n",
    "axes[1].plot(\n",
    "    dist_df_003_M1S1_DT_oc_rh.iloc[min_idx_dist_df_003_M1S1_DT_oc_rh]['program_time'],\n",
    "    dist_df_003_M1S1_DT_oc_rh.iloc[min_idx_dist_df_003_M1S1_DT_oc_rh]['distance'], \n",
    "    \"o\", \n",
    "    label = \"close (min)\", \n",
    "    color ='red'\n",
    "    )\n",
    "axes[1].set_xlabel('program_time (s)', fontsize = 9)\n",
    "axes[1].set_ylabel('distance (m)', fontsize = 9)\n",
    "axes[1].legend()\n",
    "axes[1].set_title('dist_df_003_M1S1_DT_oc_rh', fontsize = 10)\n",
    "\n",
    "axes[0].axvspan(17.2, 25.4, color=\"red\", alpha=0.3)\n",
    "axes[1].axvspan(24.4, 31.5, color=\"red\", alpha=0.3)\n",
    "\n",
    "# plt.tight_layout()\n",
    "fig.suptitle('ul003 - OC', fontweight =\"bold\")\n",
    "fig.savefig(\n",
    "            os.path.join(fig_path_003, 'ul003_M1SX_dt_comparison_oc_min_max'),\n",
    "            dpi = 150, facecolor = 'w',\n",
    "        )\n",
    "# plt.show()\n"
   ]
  },
  {
   "cell_type": "markdown",
   "metadata": {},
   "source": [
    "SPEED_OC NEW"
   ]
  },
  {
   "cell_type": "code",
   "execution_count": 35,
   "metadata": {},
   "outputs": [],
   "source": [
    "def speed_OC_time_series(\n",
    "    df,\n",
    "    max_idx,\n",
    "    min_idx\n",
    "    ):\n",
    "\n",
    "    \"\"\"\n",
    "    Calculates the speed of pronation and supination.\n",
    "    \n",
    "    Input:\n",
    "        - df (cleaned DataFrame), max_idx list, \n",
    "        min_idx list.\n",
    "    \n",
    "    Output:\n",
    "        - dict: dictionary with pronation and \n",
    "        supination speeds.\n",
    "    \"\"\"\n",
    "\n",
    "    speed_O = []\n",
    "    speed_C = []\n",
    "\n",
    "    for idx, (max, min) in enumerate(zip(max_idx, min_idx[:-1])):\n",
    "        # max_idx[0] < min_idx[0] means that the patient started the exercise with pronation\n",
    "        if max_idx[0] < min_idx[0]:\n",
    "            \n",
    "            max_dist_1 = df.iloc[max]['distance']\n",
    "            max_dist_2 = df.iloc[max_idx[idx + 1]]['distance']\n",
    "            max_time_1 = df.iloc[max]['program_time']\n",
    "            max_time_2 = df.iloc[max_idx[idx + 1]]['program_time']\n",
    "\n",
    "            min_dist_1 = df.iloc[min]['inv_distance']\n",
    "            min_dist_2 = df.iloc[min_idx[idx+1]]['inv_distance']\n",
    "            min_time_1 = df.iloc[min]['program_time']\n",
    "\n",
    "            delta_dist_O = max_dist_2 - min_dist_1\n",
    "            delta_time_O = max_time_2 - min_time_1\n",
    "\n",
    "            delta_dist_C = min_dist_1 - max_dist_1\n",
    "            delta_time_C = min_time_1 - max_time_1\n",
    "\n",
    "            vel_O = delta_dist_O/delta_time_O\n",
    "            vel_C = delta_dist_C/delta_time_C\n",
    "\n",
    "            speed_O.append(vel_O)\n",
    "            speed_C.append(vel_C)\n",
    "\n",
    "        # max_idx[0] > min_idx[0] means that the patient started the exercise with supination\n",
    "        # if max_idx[0] > min_idx[0]:\n",
    "        else:\n",
    "            max_dist_1 = df.iloc[max]['distance']\n",
    "            max_time_1 = df.iloc[max]['program_time']\n",
    "\n",
    "            min_dist_1 = df.iloc[min]['inv_distance']\n",
    "            min_time_1 = df.iloc[min]['program_time']\n",
    "            min_dist_2 = df.iloc[min_idx[idx + 1]]['inv_distance']\n",
    "            min_time_2 = df.iloc[min_idx[idx + 1]]['program_time']\n",
    "\n",
    "            delta_dist_O = max_dist_1 - min_dist_1\n",
    "            delta_time_O = max_time_1 - min_time_1\n",
    "\n",
    "            delta_dist_C = min_dist_2 - max_dist_1\n",
    "            delta_time_C = min_time_2 - max_time_1\n",
    "\n",
    "            vel_O = delta_dist_O/delta_time_O\n",
    "            vel_C = delta_dist_C/delta_time_C\n",
    "\n",
    "            speed_O.append(vel_O)\n",
    "            speed_C.append(vel_C)\n",
    "    dict = {'open_speed': speed_O,'close_speed': speed_C}\n",
    "    return dict"
   ]
  },
  {
   "cell_type": "code",
   "execution_count": 36,
   "metadata": {},
   "outputs": [],
   "source": [
    "dict_speedOC = speed_OC_time_series(\n",
    "    dist_df_003_M1S0_DT_oc_rh,\n",
    "    max_idx_dist_df_003_M1S0_DT_oc_rh, \n",
    "    min_idx_dist_df_003_M1S0_DT_oc_rh\n",
    "    )\n"
   ]
  },
  {
   "cell_type": "markdown",
   "metadata": {},
   "source": [
    "Opening Maximum Speed"
   ]
  },
  {
   "cell_type": "code",
   "execution_count": 37,
   "metadata": {},
   "outputs": [
    {
     "data": {
      "text/plain": [
       "1.0224825777907511"
      ]
     },
     "execution_count": 37,
     "metadata": {},
     "output_type": "execute_result"
    }
   ],
   "source": [
    "open_max_speed = np.max(dict_speedOC['open_speed'])\n",
    "open_max_speed"
   ]
  },
  {
   "cell_type": "markdown",
   "metadata": {},
   "source": [
    "Opening Minimum Speed"
   ]
  },
  {
   "cell_type": "code",
   "execution_count": 38,
   "metadata": {},
   "outputs": [
    {
     "data": {
      "text/plain": [
       "-0.6653132360268239"
      ]
     },
     "execution_count": 38,
     "metadata": {},
     "output_type": "execute_result"
    }
   ],
   "source": [
    "open_min_speed = np.min(dict_speedOC['open_speed'])\n",
    "open_min_speed"
   ]
  },
  {
   "cell_type": "markdown",
   "metadata": {},
   "source": [
    "Opening Mean Speed"
   ]
  },
  {
   "cell_type": "code",
   "execution_count": 39,
   "metadata": {},
   "outputs": [
    {
     "data": {
      "text/plain": [
       "0.4757124835793884"
      ]
     },
     "execution_count": 39,
     "metadata": {},
     "output_type": "execute_result"
    }
   ],
   "source": [
    "open_mean_speed = np.mean(dict_speedOC['open_speed'])\n",
    "open_mean_speed"
   ]
  },
  {
   "cell_type": "markdown",
   "metadata": {},
   "source": [
    "Opening Speed Standard Deviation"
   ]
  },
  {
   "cell_type": "code",
   "execution_count": 67,
   "metadata": {},
   "outputs": [
    {
     "data": {
      "text/plain": [
       "0.46645459872192696"
      ]
     },
     "execution_count": 67,
     "metadata": {},
     "output_type": "execute_result"
    }
   ],
   "source": [
    "std_open_speed = np.std(dict_speedOC['open_speed'])\n",
    "std_open_speed"
   ]
  },
  {
   "cell_type": "markdown",
   "metadata": {},
   "source": [
    "Closing Maximum Speed"
   ]
  },
  {
   "cell_type": "code",
   "execution_count": 40,
   "metadata": {},
   "outputs": [
    {
     "data": {
      "text/plain": [
       "-0.13245781820408714"
      ]
     },
     "execution_count": 40,
     "metadata": {},
     "output_type": "execute_result"
    }
   ],
   "source": [
    "close_max_speed = np.max(dict_speedOC['close_speed'])\n",
    "close_max_speed"
   ]
  },
  {
   "cell_type": "markdown",
   "metadata": {},
   "source": [
    "Closing Minimum Speed"
   ]
  },
  {
   "cell_type": "code",
   "execution_count": 41,
   "metadata": {},
   "outputs": [
    {
     "data": {
      "text/plain": [
       "-1.1210171685324877"
      ]
     },
     "execution_count": 41,
     "metadata": {},
     "output_type": "execute_result"
    }
   ],
   "source": [
    "close_min_speed = np.min(dict_speedOC['close_speed'])\n",
    "close_min_speed"
   ]
  },
  {
   "cell_type": "markdown",
   "metadata": {},
   "source": [
    "Closing Mean Speed"
   ]
  },
  {
   "cell_type": "code",
   "execution_count": 42,
   "metadata": {},
   "outputs": [
    {
     "data": {
      "text/plain": [
       "-0.48957213087325685"
      ]
     },
     "execution_count": 42,
     "metadata": {},
     "output_type": "execute_result"
    }
   ],
   "source": [
    "close_mean_speed = np.mean(dict_speedOC['close_speed'])\n",
    "close_mean_speed\n",
    "\n",
    "# Absolute Closing Speed\n",
    "# abs(close_mean_speed)"
   ]
  },
  {
   "cell_type": "markdown",
   "metadata": {},
   "source": [
    "Closing Speed Standard Deviation"
   ]
  },
  {
   "cell_type": "code",
   "execution_count": 68,
   "metadata": {},
   "outputs": [
    {
     "data": {
      "text/plain": [
       "0.19848230559869912"
      ]
     },
     "execution_count": 68,
     "metadata": {},
     "output_type": "execute_result"
    }
   ],
   "source": [
    "std_close_speed = np.std(dict_speedOC['close_speed'])\n",
    "std_close_speed"
   ]
  },
  {
   "cell_type": "markdown",
   "metadata": {},
   "source": [
    "Feature Extraction Function"
   ]
  },
  {
   "cell_type": "code",
   "execution_count": 44,
   "metadata": {},
   "outputs": [],
   "source": [
    "def fts_ext():\n",
    "    count_OC = len(min_idx_dist_df_003_M1S0_DT_oc_rh) # 1\n",
    "    dict_freq_std = freq_tap(dist_df_003_M1S0_DT_oc_rh, min_idx_dist_df_003_M1S0_DT_oc_rh)\n",
    "    std_freq = dict_freq_std['std_freq'] # 2\n",
    "    mean_freq = np.mean(dict_freq_std['freq_per_tap']) # 3\n",
    "    open_max_amp = np.max(dist_df_003_M1S0_DT_oc_rh.iloc[max_idx_dist_df_003_M1S0_DT_oc_rh]['distance']) # 4\n",
    "    open_min_amp = np.min(dist_df_003_M1S0_DT_oc_rh.iloc[max_idx_dist_df_003_M1S0_DT_oc_rh]['distance']) # 5\n",
    "    open_mean_amp = np.mean(dist_df_003_M1S0_DT_oc_rh.iloc[max_idx_dist_df_003_M1S0_DT_oc_rh]['distance']) # 6\n",
    "    open_std_amp = np.std(dist_df_003_M1S0_DT_oc_rh.iloc[max_idx_dist_df_003_M1S0_DT_oc_rh]['distance']) # 7\n",
    "    close_max_amp = np.max(dist_df_003_M1S0_DT_oc_rh.iloc[min_idx_dist_df_003_M1S0_DT_oc_rh]['distance']) # 8\n",
    "    close_min_amp = np.max(dist_df_003_M1S0_DT_oc_rh.iloc[min_idx_dist_df_003_M1S0_DT_oc_rh]['distance']) # 9\n",
    "    close_mean_amp = np.mean(dist_df_003_M1S0_DT_oc_rh.iloc[min_idx_dist_df_003_M1S0_DT_oc_rh]['distance']) # 10\n",
    "    close_std_amp = np.std(dist_df_003_M1S0_DT_oc_rh.iloc[min_idx_dist_df_003_M1S0_DT_oc_rh]['distance']) # 11\n",
    "    open_max_speed = np.max(dict_speedOC['open_speed']) # 12\n",
    "    open_min_speed = np.min(dict_speedOC['open_speed']) # 13\n",
    "    open_mean_speed = np.mean(dict_speedOC['open_speed']) # 14\n",
    "    std_open_speed = np.std(dict_speedOC['open_speed'])\n",
    "    close_max_speed = np.max(dict_speedOC['close_speed']) # 15\n",
    "    close_min_speed = np.min(dict_speedOC['close_speed']) # 16\n",
    "    close_mean_speed = np.mean(dict_speedOC['close_speed']) # 17\n",
    "    std_close_speed = np.std(dict_speedOC['close_speed'])\n",
    "\n",
    "    return\n",
    "    \n",
    "    "
   ]
  },
  {
   "cell_type": "markdown",
   "metadata": {},
   "source": [
    "Number of Opening-Closing events"
   ]
  },
  {
   "cell_type": "code",
   "execution_count": 45,
   "metadata": {},
   "outputs": [
    {
     "data": {
      "text/plain": [
       "40"
      ]
     },
     "execution_count": 45,
     "metadata": {},
     "output_type": "execute_result"
    }
   ],
   "source": [
    "count_OC = len(min_idx_dist_df_003_M1S0_DT_oc_rh)\n",
    "count_OC"
   ]
  },
  {
   "cell_type": "markdown",
   "metadata": {},
   "source": [
    "Frequency per Opening-Closing "
   ]
  },
  {
   "cell_type": "code",
   "execution_count": 46,
   "metadata": {},
   "outputs": [],
   "source": [
    "def freq_tap(df_time_amp, min_idx):\n",
    "\n",
    "    freq_per_tap = []\n",
    "\n",
    "    for idx, min in enumerate(min_idx[:-1]):\n",
    "\n",
    "        min_time1 = df_time_amp.iloc[min]['program_time']\n",
    "        min_time2 = df_time_amp.iloc[min_idx[idx+1]]['program_time']\n",
    "   \n",
    "        delta_time = min_time2-min_time1\n",
    "        freq = 1/delta_time\n",
    "\n",
    "        freq_per_tap.append(freq)\n",
    "        # time_ls.append(delta_time)\n",
    "    std_freq = np.std(freq_per_tap)\n",
    "\n",
    "    dict_freq_std = {'std_freq': std_freq, 'freq_per_tap': freq_per_tap}\n",
    "\n",
    "    return dict_freq_std"
   ]
  },
  {
   "cell_type": "markdown",
   "metadata": {},
   "source": [
    "Opening-Closing Frequency Standard Deviation"
   ]
  },
  {
   "cell_type": "code",
   "execution_count": 47,
   "metadata": {},
   "outputs": [
    {
     "data": {
      "text/plain": [
       "0.49719821823963467"
      ]
     },
     "execution_count": 47,
     "metadata": {},
     "output_type": "execute_result"
    }
   ],
   "source": [
    "dict_freq_std = freq_tap(dist_df_003_M1S0_DT_oc_rh, min_idx_dist_df_003_M1S0_DT_oc_rh)\n",
    "std_freq = dict_freq_std['std_freq']\n",
    "std_freq"
   ]
  },
  {
   "cell_type": "markdown",
   "metadata": {},
   "source": [
    "Opening-Closing Mean Frequency"
   ]
  },
  {
   "cell_type": "code",
   "execution_count": 48,
   "metadata": {},
   "outputs": [
    {
     "data": {
      "text/plain": [
       "2.3205798012979177"
      ]
     },
     "execution_count": 48,
     "metadata": {},
     "output_type": "execute_result"
    }
   ],
   "source": [
    "mean_freq = np.mean(dict_freq_std['freq_per_tap'])\n",
    "mean_freq"
   ]
  },
  {
   "cell_type": "markdown",
   "metadata": {},
   "source": [
    "Amplitude variability - CHECK"
   ]
  },
  {
   "cell_type": "code",
   "execution_count": 66,
   "metadata": {},
   "outputs": [
    {
     "data": {
      "text/plain": [
       "0.02664187996112638"
      ]
     },
     "execution_count": 66,
     "metadata": {},
     "output_type": "execute_result"
    }
   ],
   "source": [
    "std_amp = np.std(dist_df_003_M1S0_DT_oc_rh['distance'])\n",
    "std_amp"
   ]
  },
  {
   "cell_type": "markdown",
   "metadata": {},
   "source": [
    "### Minimum, Maximum & Mean Amplitudes"
   ]
  },
  {
   "cell_type": "markdown",
   "metadata": {},
   "source": [
    "Opening Maximum Amplitude"
   ]
  },
  {
   "cell_type": "code",
   "execution_count": 50,
   "metadata": {},
   "outputs": [
    {
     "data": {
      "text/plain": [
       "0.09702349020373532"
      ]
     },
     "execution_count": 50,
     "metadata": {},
     "output_type": "execute_result"
    }
   ],
   "source": [
    "open_max_amp = np.max(dist_df_003_M1S0_DT_oc_rh.iloc[max_idx_dist_df_003_M1S0_DT_oc_rh]['distance'])\n",
    "open_max_amp"
   ]
  },
  {
   "cell_type": "markdown",
   "metadata": {},
   "source": [
    "Opening Minimum Amplitude"
   ]
  },
  {
   "cell_type": "code",
   "execution_count": 51,
   "metadata": {},
   "outputs": [
    {
     "data": {
      "text/plain": [
       "0.08452898724632002"
      ]
     },
     "execution_count": 51,
     "metadata": {},
     "output_type": "execute_result"
    }
   ],
   "source": [
    "open_min_amp = np.min(dist_df_003_M1S0_DT_oc_rh.iloc[max_idx_dist_df_003_M1S0_DT_oc_rh]['distance'])\n",
    "open_min_amp"
   ]
  },
  {
   "cell_type": "markdown",
   "metadata": {},
   "source": [
    "Opening Mean Amplitude"
   ]
  },
  {
   "cell_type": "code",
   "execution_count": 52,
   "metadata": {},
   "outputs": [
    {
     "data": {
      "text/plain": [
       "0.09332923883498252"
      ]
     },
     "execution_count": 52,
     "metadata": {},
     "output_type": "execute_result"
    }
   ],
   "source": [
    "open_mean_amp = np.mean(dist_df_003_M1S0_DT_oc_rh.iloc[max_idx_dist_df_003_M1S0_DT_oc_rh]['distance'])\n",
    "open_mean_amp"
   ]
  },
  {
   "cell_type": "markdown",
   "metadata": {},
   "source": [
    "Opening Standard Deviation"
   ]
  },
  {
   "cell_type": "code",
   "execution_count": 53,
   "metadata": {},
   "outputs": [
    {
     "data": {
      "text/plain": [
       "0.002624456999687381"
      ]
     },
     "execution_count": 53,
     "metadata": {},
     "output_type": "execute_result"
    }
   ],
   "source": [
    "open_std_amp = np.std(dist_df_003_M1S0_DT_oc_rh.iloc[max_idx_dist_df_003_M1S0_DT_oc_rh]['distance'])\n",
    "open_std_amp"
   ]
  },
  {
   "cell_type": "markdown",
   "metadata": {},
   "source": [
    "Closing Maximum Amplitude"
   ]
  },
  {
   "cell_type": "code",
   "execution_count": 54,
   "metadata": {},
   "outputs": [
    {
     "data": {
      "text/plain": [
       "0.029703514481128332"
      ]
     },
     "execution_count": 54,
     "metadata": {},
     "output_type": "execute_result"
    }
   ],
   "source": [
    "close_max_amp = np.max(dist_df_003_M1S0_DT_oc_rh.iloc[min_idx_dist_df_003_M1S0_DT_oc_rh]['distance'])\n",
    "close_max_amp"
   ]
  },
  {
   "cell_type": "markdown",
   "metadata": {},
   "source": [
    "Closing Minimum Amplitude"
   ]
  },
  {
   "cell_type": "code",
   "execution_count": 55,
   "metadata": {},
   "outputs": [
    {
     "data": {
      "text/plain": [
       "0.029703514481128332"
      ]
     },
     "execution_count": 55,
     "metadata": {},
     "output_type": "execute_result"
    }
   ],
   "source": [
    "close_min_amp = np.max(dist_df_003_M1S0_DT_oc_rh.iloc[min_idx_dist_df_003_M1S0_DT_oc_rh]['distance'])\n",
    "close_min_amp"
   ]
  },
  {
   "cell_type": "markdown",
   "metadata": {},
   "source": [
    "Closing Mean Amplitude"
   ]
  },
  {
   "cell_type": "code",
   "execution_count": 56,
   "metadata": {},
   "outputs": [
    {
     "data": {
      "text/plain": [
       "0.02901614388335062"
      ]
     },
     "execution_count": 56,
     "metadata": {},
     "output_type": "execute_result"
    }
   ],
   "source": [
    "close_mean_amp = np.mean(dist_df_003_M1S0_DT_oc_rh.iloc[min_idx_dist_df_003_M1S0_DT_oc_rh]['distance'])\n",
    "close_mean_amp"
   ]
  },
  {
   "cell_type": "markdown",
   "metadata": {},
   "source": [
    "Closing Standard Deviation"
   ]
  },
  {
   "cell_type": "code",
   "execution_count": 57,
   "metadata": {},
   "outputs": [
    {
     "data": {
      "text/plain": [
       "0.0006246903890674014"
      ]
     },
     "execution_count": 57,
     "metadata": {},
     "output_type": "execute_result"
    }
   ],
   "source": [
    "close_std_amp = np.std(dist_df_003_M1S0_DT_oc_rh.iloc[min_idx_dist_df_003_M1S0_DT_oc_rh]['distance'])\n",
    "close_std_amp"
   ]
  },
  {
   "cell_type": "markdown",
   "metadata": {},
   "source": [
    "Dictionary with features(#)"
   ]
  },
  {
   "cell_type": "code",
   "execution_count": 69,
   "metadata": {},
   "outputs": [],
   "source": [
    "feature_set = {\n",
    "    'num_events': count_OC, \n",
    "    'open_max_amp': open_max_amp, \n",
    "    'open_min_amp': open_min_amp,\n",
    "    'open_mean_amp': open_mean_amp,\n",
    "    'open_std_amp': open_std_amp,\n",
    "    'close_max_amp': close_max_amp,\n",
    "    'close_min_amp': close_min_amp,\n",
    "    'close_mean_amp': close_mean_amp,\n",
    "    'close_std_amp': close_std_amp,\n",
    "    'open_max_speed': open_max_speed,\n",
    "    'open_min_speed': open_min_speed,\n",
    "    'open_mean_speed': open_mean_speed,\n",
    "    'std_open_speed': std_open_speed,\n",
    "    'close_max_speed': close_max_speed,\n",
    "    'close_min_speed': close_min_speed,\n",
    "    'close_mean_speed': close_mean_speed,\n",
    "    'std_close_speed': std_close_speed,\n",
    "    'mean_freq': mean_freq,\n",
    "    'std_freq': std_freq,\n",
    "    }"
   ]
  },
  {
   "cell_type": "code",
   "execution_count": 70,
   "metadata": {},
   "outputs": [
    {
     "data": {
      "text/plain": [
       "19"
      ]
     },
     "execution_count": 70,
     "metadata": {},
     "output_type": "execute_result"
    }
   ],
   "source": [
    "len(feature_set)"
   ]
  },
  {
   "cell_type": "code",
   "execution_count": 74,
   "metadata": {},
   "outputs": [
    {
     "data": {
      "text/html": [
       "<div>\n",
       "<style scoped>\n",
       "    .dataframe tbody tr th:only-of-type {\n",
       "        vertical-align: middle;\n",
       "    }\n",
       "\n",
       "    .dataframe tbody tr th {\n",
       "        vertical-align: top;\n",
       "    }\n",
       "\n",
       "    .dataframe thead th {\n",
       "        text-align: right;\n",
       "    }\n",
       "</style>\n",
       "<table border=\"1\" class=\"dataframe\">\n",
       "  <thead>\n",
       "    <tr style=\"text-align: right;\">\n",
       "      <th></th>\n",
       "      <th>num_events</th>\n",
       "      <th>open_max_amp</th>\n",
       "      <th>open_min_amp</th>\n",
       "      <th>open_mean_amp</th>\n",
       "      <th>open_std_amp</th>\n",
       "      <th>close_max_amp</th>\n",
       "      <th>close_min_amp</th>\n",
       "      <th>close_mean_amp</th>\n",
       "      <th>close_std_amp</th>\n",
       "      <th>open_max_speed</th>\n",
       "      <th>open_min_speed</th>\n",
       "      <th>open_mean_speed</th>\n",
       "      <th>std_open_speed</th>\n",
       "      <th>close_max_speed</th>\n",
       "      <th>close_min_speed</th>\n",
       "      <th>close_mean_speed</th>\n",
       "      <th>std_close_speed</th>\n",
       "      <th>mean_freq</th>\n",
       "      <th>std_freq</th>\n",
       "    </tr>\n",
       "  </thead>\n",
       "  <tbody>\n",
       "    <tr>\n",
       "      <th>ul003</th>\n",
       "      <td>40</td>\n",
       "      <td>0.097023</td>\n",
       "      <td>0.084529</td>\n",
       "      <td>0.093329</td>\n",
       "      <td>0.002624</td>\n",
       "      <td>0.029704</td>\n",
       "      <td>0.029704</td>\n",
       "      <td>0.029016</td>\n",
       "      <td>0.000625</td>\n",
       "      <td>1.022483</td>\n",
       "      <td>-0.665313</td>\n",
       "      <td>0.475712</td>\n",
       "      <td>0.466455</td>\n",
       "      <td>-0.132458</td>\n",
       "      <td>-1.121017</td>\n",
       "      <td>-0.489572</td>\n",
       "      <td>0.198482</td>\n",
       "      <td>2.32058</td>\n",
       "      <td>0.497198</td>\n",
       "    </tr>\n",
       "  </tbody>\n",
       "</table>\n",
       "</div>"
      ],
      "text/plain": [
       "       num_events  open_max_amp  open_min_amp  open_mean_amp  open_std_amp  \\\n",
       "ul003          40      0.097023      0.084529       0.093329      0.002624   \n",
       "\n",
       "       close_max_amp  close_min_amp  close_mean_amp  close_std_amp  \\\n",
       "ul003       0.029704       0.029704        0.029016       0.000625   \n",
       "\n",
       "       open_max_speed  open_min_speed  open_mean_speed  std_open_speed  \\\n",
       "ul003        1.022483       -0.665313         0.475712        0.466455   \n",
       "\n",
       "       close_max_speed  close_min_speed  close_mean_speed  std_close_speed  \\\n",
       "ul003        -0.132458        -1.121017         -0.489572         0.198482   \n",
       "\n",
       "       mean_freq  std_freq  \n",
       "ul003    2.32058  0.497198  "
      ]
     },
     "execution_count": 74,
     "metadata": {},
     "output_type": "execute_result"
    }
   ],
   "source": [
    "df_feature_set = pd.DataFrame(feature_set, index=['ul003'])\n",
    "df_feature_set"
   ]
  }
 ],
 "metadata": {
  "kernelspec": {
   "display_name": "Python 3.9.13 ('ultraleap')",
   "language": "python",
   "name": "python3"
  },
  "language_info": {
   "codemirror_mode": {
    "name": "ipython",
    "version": 3
   },
   "file_extension": ".py",
   "mimetype": "text/x-python",
   "name": "python",
   "nbconvert_exporter": "python",
   "pygments_lexer": "ipython3",
   "version": "3.9.13 | packaged by conda-forge | (main, May 27 2022, 16:50:36) [MSC v.1929 64 bit (AMD64)]"
  },
  "orig_nbformat": 4,
  "vscode": {
   "interpreter": {
    "hash": "e71fae91b647d9ddf54366d4ca501e2feb7361c49fd4ae0aad0645ae641ecdc1"
   }
  }
 },
 "nbformat": 4,
 "nbformat_minor": 2
}
