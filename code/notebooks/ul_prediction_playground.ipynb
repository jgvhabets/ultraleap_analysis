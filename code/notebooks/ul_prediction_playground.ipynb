{
 "cells": [
  {
   "cell_type": "markdown",
   "metadata": {},
   "source": [
    "This notebook can be used to load raw ultraleap data, \n",
    "save cleaned dataframes for each block, \n",
    "and generate dataframes of distances for further feature extraction"
   ]
  },
  {
   "attachments": {},
   "cell_type": "markdown",
   "metadata": {},
   "source": [
    "Import public packages and functions"
   ]
  },
  {
   "cell_type": "code",
   "execution_count": 511,
   "metadata": {},
   "outputs": [],
   "source": [
    "import os\n",
    "import importlib\n",
    "import pandas as pd\n",
    "import numpy as np\n",
    "import matplotlib.pyplot as plt\n",
    "import csv\n",
    "from itertools import compress\n",
    "import seaborn as sn\n",
    "\n",
    "import openpyxl\n",
    "from datetime import datetime\n",
    "import math\n",
    "import statistics as stat\n",
    "import json"
   ]
  },
  {
   "cell_type": "code",
   "execution_count": 512,
   "metadata": {},
   "outputs": [],
   "source": [
    "def get_repo_path_in_notebook():\n",
    "    \"\"\"\n",
    "    Finds path of repo from Notebook.\n",
    "    Start running this once to correctly find\n",
    "    other modules/functions\n",
    "    \"\"\"\n",
    "    path = os.getcwd()\n",
    "    repo_name = 'ultraleap_analysis'\n",
    "\n",
    "    while path[-len(repo_name):] != 'ultraleap_analysis':\n",
    "\n",
    "        path = os.path.dirname(path)\n",
    "\n",
    "    return path\n"
   ]
  },
  {
   "cell_type": "code",
   "execution_count": 513,
   "metadata": {},
   "outputs": [],
   "source": [
    "repo_path = get_repo_path_in_notebook()\n",
    "code_path = os.path.join(repo_path, 'code')\n",
    "os.chdir(code_path)"
   ]
  },
  {
   "attachments": {},
   "cell_type": "markdown",
   "metadata": {},
   "source": [
    "Import own functions"
   ]
  },
  {
   "cell_type": "code",
   "execution_count": 514,
   "metadata": {},
   "outputs": [],
   "source": [
    "import import_data.import_and_convert_data as import_dat\n",
    "import import_data.find_paths as find_paths\n",
    "import import_data.preprocessing_meta_info as meta_info\n",
    "import sig_processing.segment_tasks as seg_tasks\n",
    "import movement_calc.helpfunctions as hp\n",
    "import feature_extraction.get_features as get_feat\n",
    "import feature_extraction.get_features as get_files\n",
    "import feature_extraction.get_files as get_files\n",
    "import model_prediction.func_factory as ff"
   ]
  },
  {
   "cell_type": "code",
   "execution_count": 515,
   "metadata": {},
   "outputs": [
    {
     "data": {
      "text/plain": [
       "<module 'feature_extraction.get_files' from '/Users/arianm/Documents/GitHub/ultraleap_analysis/code/feature_extraction/get_files.py'>"
      ]
     },
     "execution_count": 515,
     "metadata": {},
     "output_type": "execute_result"
    }
   ],
   "source": [
    "importlib.reload(get_files)"
   ]
  },
  {
   "attachments": {},
   "cell_type": "markdown",
   "metadata": {},
   "source": [
    "### 1. Loading Features (X) and scores (y)"
   ]
  },
  {
   "attachments": {},
   "cell_type": "markdown",
   "metadata": {},
   "source": [
    "Load features from csv and scores/ lables from table"
   ]
  },
  {
   "cell_type": "code",
   "execution_count": 516,
   "metadata": {},
   "outputs": [],
   "source": [
    "def loading_features_and_scores(task= str):\n",
    "\n",
    "    task = task.lower()\n",
    "\n",
    "    feat_df_path = os.path.join(repo_path, 'data', 'features', 'dataframes', 'patientdata')\n",
    "\n",
    "    if task == 'ft':\n",
    "        df = pd.read_csv(os.path.join(feat_df_path, 'ft_block_features.csv'), index_col=0)\n",
    "    elif task == 'oc':\n",
    "        df = pd.read_csv(os.path.join(feat_df_path, 'oc_block_features.csv'), index_col=0)\n",
    "\n",
    "    X_df, y = X_df, y = ff.load_labels_and_adjust_feature_df(df)\n",
    "\n",
    "    y = np.array(y)\n",
    "\n",
    "    return X_df, y\n"
   ]
  },
  {
   "cell_type": "code",
   "execution_count": 517,
   "metadata": {},
   "outputs": [],
   "source": [
    "X_df, y = loading_features_and_scores('ft')"
   ]
  },
  {
   "cell_type": "code",
   "execution_count": 518,
   "metadata": {},
   "outputs": [],
   "source": [
    "## plotting feature boxplots based on score\n",
    "# X_df.insert(1, 'scores', y)\n",
    "# X = X_df[:, 1:]\n",
    "# df0, df1, df2, df3, df4 =split_dataframe_by_scores(X, 'scores')\n",
    "# dfs = [df0, df1, df2, df3, df4]\n",
    "# boxplot_by_dataframe(dfs, 'num_events')"
   ]
  },
  {
   "cell_type": "markdown",
   "metadata": {},
   "source": [
    "### 2. Select which features you want to use "
   ]
  },
  {
   "cell_type": "code",
   "execution_count": 519,
   "metadata": {},
   "outputs": [],
   "source": [
    "X = X_df.iloc[:, 1:]"
   ]
  },
  {
   "cell_type": "markdown",
   "metadata": {},
   "source": [
    "## Make binary classification problem"
   ]
  },
  {
   "cell_type": "code",
   "execution_count": 520,
   "metadata": {},
   "outputs": [],
   "source": [
    "y_binary = y > 1\n",
    "\n",
    "y = y_binary\n",
    "y = y.astype(int)"
   ]
  },
  {
   "cell_type": "code",
   "execution_count": 521,
   "metadata": {},
   "outputs": [],
   "source": [
    "classifiers = ['linear', 'nonlinear', 'logregression', 'random forest', 'knearest', 'gaussian naive bayes']"
   ]
  }
 ],
 "metadata": {
  "kernelspec": {
   "display_name": "Python 3.9.12 ('ultraleap')",
   "language": "python",
   "name": "python3"
  },
  "language_info": {
   "codemirror_mode": {
    "name": "ipython",
    "version": 3
   },
   "file_extension": ".py",
   "mimetype": "text/x-python",
   "name": "python",
   "nbconvert_exporter": "python",
   "pygments_lexer": "ipython3",
   "version": "3.9.12"
  },
  "orig_nbformat": 4,
  "vscode": {
   "interpreter": {
    "hash": "a2b0f49e3f9f86e05f3035101dad0b7b3d97321cf2c3e74a112da03721bd9215"
   }
  }
 },
 "nbformat": 4,
 "nbformat_minor": 2
}
