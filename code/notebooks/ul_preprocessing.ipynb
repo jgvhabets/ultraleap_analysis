{
 "cells": [
  {
   "cell_type": "markdown",
   "metadata": {},
   "source": [
    "This notebook can be used to load raw ultraleap data, \n",
    "save cleaned dataframes for each block, \n",
    "and generate dataframes of distances for further feature extraction"
   ]
  },
  {
   "attachments": {},
   "cell_type": "markdown",
   "metadata": {},
   "source": [
    "Import public packages and functions"
   ]
  },
  {
   "cell_type": "code",
   "execution_count": 2,
   "metadata": {},
   "outputs": [],
   "source": [
    "import os\n",
    "import importlib\n",
    "import pandas as pd\n",
    "import numpy as np\n",
    "import matplotlib.pyplot as plt\n",
    "import csv\n",
    "from itertools import compress\n",
    "\n",
    "\n",
    "import openpyxl\n",
    "from datetime import datetime\n",
    "from scipy.spatial import distance\n",
    "from scipy.ndimage import uniform_filter1d\n",
    "import math\n",
    "from scipy.signal import find_peaks, peak_prominences\n",
    "import statistics as stat\n",
    "import json\n",
    "import traces"
   ]
  },
  {
   "cell_type": "code",
   "execution_count": 3,
   "metadata": {},
   "outputs": [],
   "source": [
    "def get_repo_path_in_notebook():\n",
    "    \"\"\"\n",
    "    Finds path of repo from Notebook.\n",
    "    Start running this once to correctly find\n",
    "    other modules/functions\n",
    "    \"\"\"\n",
    "    path = os.getcwd()\n",
    "    repo_name = 'ultraleap_analysis'\n",
    "\n",
    "    while path[-len(repo_name):] != 'ultraleap_analysis':\n",
    "\n",
    "        path = os.path.dirname(path)\n",
    "\n",
    "    return path\n"
   ]
  },
  {
   "cell_type": "code",
   "execution_count": 4,
   "metadata": {},
   "outputs": [],
   "source": [
    "repo_path = get_repo_path_in_notebook()\n",
    "code_path = os.path.join(repo_path, 'code')\n",
    "os.chdir(code_path)"
   ]
  },
  {
   "attachments": {},
   "cell_type": "markdown",
   "metadata": {},
   "source": [
    "Import own functions"
   ]
  },
  {
   "cell_type": "code",
   "execution_count": 5,
   "metadata": {},
   "outputs": [],
   "source": [
    "import import_data.import_and_convert_data as import_dat\n",
    "import import_data.find_paths as find_paths\n",
    "import import_data.preprocessing_meta_info as meta_info\n",
    "import sig_processing.segment_tasks as tasks\n",
    "import movement_calc.helpfunctions as hp"
   ]
  },
  {
   "attachments": {},
   "cell_type": "markdown",
   "metadata": {},
   "source": [
    "### Saving blocks for preprocessing"
   ]
  },
  {
   "attachments": {},
   "cell_type": "markdown",
   "metadata": {},
   "source": [
    "Reloading own functions"
   ]
  },
  {
   "cell_type": "code",
   "execution_count": 6,
   "metadata": {},
   "outputs": [
    {
     "data": {
      "text/plain": [
       "<module 'movement_calc.helpfunctions' from '/Users/arianm/Documents/GitHub/ultraleap_analysis/code/movement_calc/helpfunctions.py'>"
      ]
     },
     "execution_count": 6,
     "metadata": {},
     "output_type": "execute_result"
    }
   ],
   "source": [
    "importlib.reload(import_dat)\n",
    "importlib.reload(tasks)\n",
    "importlib.reload(find_paths)\n",
    "importlib.reload(meta_info)\n",
    "importlib.reload(hp)"
   ]
  },
  {
   "attachments": {},
   "cell_type": "markdown",
   "metadata": {},
   "source": [
    "Define variables of interest"
   ]
  },
  {
   "cell_type": "code",
   "execution_count": 7,
   "metadata": {},
   "outputs": [],
   "source": [
    "folder = 'patientdata'\n",
    "ls_cond = ['m1', 'm0s0', 'm0s1', 'm1s0', 'm1s1']\n",
    "ls_cam = ['dt', 'vr',  'st']\n",
    "ls_task = ['ft', 'oc', 'ps', 'pt']\n",
    "ls_side = ['left', 'right']\n",
    "subs = find_paths.find_available_subs(folder)"
   ]
  },
  {
   "attachments": {},
   "cell_type": "markdown",
   "metadata": {},
   "source": [
    "Save blocks for feature extraction"
   ]
  },
  {
   "cell_type": "code",
   "execution_count": 169,
   "metadata": {},
   "outputs": [],
   "source": [
    "for sub in subs:\n",
    "    for cond in ls_cond:\n",
    "        for cam in ls_cam:\n",
    "            for task in ls_task:\n",
    "                for side in ls_side:\n",
    "                    # get defined data\n",
    "                    try:\n",
    "                        data = import_dat.get_data(folder = folder,\n",
    "                            sub=sub, cam_pos=cam, task=task, condition=cond, side=side,\n",
    "                        )\n",
    "\n",
    "                        # get block dataframes\n",
    "                        blocks = tasks.block_extraction(\n",
    "                            data, sub=sub, task=task, side=side,\n",
    "                            cond=cond, cam=cam, to_save=True)\n",
    "\n",
    "                        block_path = os.path.join(\n",
    "                            repo_path, 'data', 'raw_blocks', sub, task, cond, 'blocks')\n",
    "\n",
    "                    except Exception:\n",
    "                        continue\n",
    "\n",
    "                #saving blocks as .csv files\n",
    "                    for block in blocks.keys():\n",
    "                        if blocks[block].empty:\n",
    "                            continue\n",
    "                        if not os.path.exists(block_path) and not blocks[block].empty:\n",
    "                            os.makedirs(block_path)\n",
    "                        blocks[block].to_csv(os.path.join(\n",
    "                            block_path, f'{block}_{sub}_{cond}_{cam}_{task}_{side}.csv'))"
   ]
  },
  {
   "attachments": {},
   "cell_type": "markdown",
   "metadata": {},
   "source": [
    "Load blocks, calculate distances and create dist-time .csv files"
   ]
  },
  {
   "cell_type": "code",
   "execution_count": 32,
   "metadata": {},
   "outputs": [],
   "source": [
    "for sub in subs:\n",
    "    for cond in ls_cond:\n",
    "        for task in ls_task:\n",
    "            try:\n",
    "                files = os.listdir(os.path.join(repo_path, 'data','raw_blocks', sub, task, cond, 'blocks'))\n",
    "\n",
    "            except FileNotFoundError:\n",
    "                continue \n",
    "            \n",
    "            for file in files:\n",
    "                if file == '.DS_Store':\n",
    "                    continue\n",
    "\n",
    "                # Load blocks from patients' blocks dir\n",
    "                block = pd.read_csv(os.path.join(\n",
    "                    repo_path, 'data', 'raw_blocks', sub, task, cond, 'blocks', file))\n",
    "\n",
    "                if task == 'oc':\n",
    "                    dist = hp.calc_distances(block, 'middle_tip', 'palm')\n",
    "                elif task == 'ft':\n",
    "                    dist = hp.calc_distances(block, 'index_tip', 'thumb_tip')\n",
    "                elif task == 'ps':\n",
    "                    dist = hp.calc_prosup_angle(block, 'thumb_tip', 'middle_tip', 'palm')\n",
    "                elif task == 'pt':\n",
    "                    print('Postural tremor not analyzed yet')\n",
    "\n",
    "                dist['time'] = block.program_time.to_list()\n",
    "\n",
    "                dist_path = os.path.join(\n",
    "                    repo_path, 'data', 'distances', sub, task, cond)\n",
    "                if not os.path.exists(dist_path):\n",
    "                    os.makedirs(dist_path)\n",
    "                dist.to_csv(os.path.join(\n",
    "                    dist_path, f'dist_{file}'))"
   ]
  },
  {
   "cell_type": "markdown",
   "metadata": {},
   "source": [
    "# Visualisations for self-control"
   ]
  },
  {
   "cell_type": "code",
   "execution_count": 29,
   "metadata": {},
   "outputs": [
    {
     "ename": "SyntaxError",
     "evalue": "invalid syntax (1055887893.py, line 19)",
     "output_type": "error",
     "traceback": [
      "\u001b[0;36m  Input \u001b[0;32mIn [29]\u001b[0;36m\u001b[0m\n\u001b[0;31m    plt.plot(block[])\u001b[0m\n\u001b[0m                   ^\u001b[0m\n\u001b[0;31mSyntaxError\u001b[0m\u001b[0;31m:\u001b[0m invalid syntax\n"
     ]
    }
   ],
   "source": [
    "for sub in subs:\n",
    "    for cond in ls_cond:\n",
    "        for task in ls_task:\n",
    "            try:\n",
    "                files = os.listdir(os.path.join(repo_path, 'data','raw_blocks', sub, task, cond, 'dist'))\n",
    "\n",
    "            except FileNotFoundError:\n",
    "                continue \n",
    "            \n",
    "            for file in files:\n",
    "                if file == '.DS_Store':\n",
    "                    continue\n",
    "\n",
    "                # Load blocks from patients' blocks dir\n",
    "                block = pd.read_csv(os.path.join(\n",
    "                    repo_path, 'data', 'raw_blocks', sub, task, cond, 'dist', file), index_col= 0)\n",
    "\n",
    "                plt.figure(figsize=(18, 10))\n",
    "                plt.plot(block[])\n",
    "                plt.plot(block.iloc[].iloc[:,0], 'o', color= 'red')\n",
    "                plt.plot(block.iloc[].iloc[:,0], 'o', color= 'blue')    \n",
    "                plt.show()    \n",
    "                            "
   ]
  },
  {
   "cell_type": "code",
   "execution_count": 1085,
   "metadata": {},
   "outputs": [],
   "source": [
    "def new(dist_dataframe):\n",
    "    '''\n",
    "    Try out further and adapt for PS\n",
    "    '''\n",
    "\n",
    "    fps = hp.calc_fps(dist_dataframe)\n",
    "\n",
    "    dist_array = np.array(dist_dataframe.iloc[:,0])\n",
    "\n",
    "    ...\n",
    "\n",
    "    plt.figure(figsize=(18, 10))\n",
    "    plt.plot(dist_array)\n",
    "    plt.plot(dist_dataframe.iloc[ ].iloc[:,0], 'o', color= 'red')\n",
    "    plt.plot(dist_dataframe.iloc[ ].iloc[:,0], 'o', color= 'blue')\n",
    "    # plt.show()\n",
    "    return"
   ]
  }
 ],
 "metadata": {
  "kernelspec": {
   "display_name": "Python 3.9.12 ('ultraleap')",
   "language": "python",
   "name": "python3"
  },
  "language_info": {
   "codemirror_mode": {
    "name": "ipython",
    "version": 3
   },
   "file_extension": ".py",
   "mimetype": "text/x-python",
   "name": "python",
   "nbconvert_exporter": "python",
   "pygments_lexer": "ipython3",
   "version": "3.9.12"
  },
  "orig_nbformat": 4,
  "vscode": {
   "interpreter": {
    "hash": "a2b0f49e3f9f86e05f3035101dad0b7b3d97321cf2c3e74a112da03721bd9215"
   }
  }
 },
 "nbformat": 4,
 "nbformat_minor": 2
}
